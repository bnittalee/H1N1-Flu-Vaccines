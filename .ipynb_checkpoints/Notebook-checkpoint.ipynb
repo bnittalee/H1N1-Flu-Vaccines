{
 "cells": [
  {
   "cell_type": "markdown",
   "metadata": {},
   "source": [
    "### Developing and Comparing Machine Learning Models for Predicting Vaccine Distribution Likelihood"
   ]
  },
  {
   "cell_type": "markdown",
   "metadata": {},
   "source": [
    "By Brittney Nitta-Lee"
   ]
  },
  {
   "cell_type": "markdown",
   "metadata": {},
   "source": [
    "### Business and Data Understanding"
   ]
  },
  {
   "cell_type": "markdown",
   "metadata": {},
   "source": [
    "The National Center for Health Statistics (NCHS) conducted a National 2009 H1N1 Flu Survey which was sponsored by the National Center for Immunization and Respiratory Diseases. The one-time survey was a list-assisted random-digit-dialing telephone survey of households. The survey was designed to monitor influenza immunization coverage in the 2009 to 2010 season. "
   ]
  },
  {
   "cell_type": "markdown",
   "metadata": {},
   "source": [
    "### Survey respondents"
   ]
  },
  {
   "cell_type": "markdown",
   "metadata": {},
   "source": [
    "The target population was persons 6 months or older living in the United States. The data includes surveys from more than 26,000 people. "
   ]
  },
  {
   "cell_type": "markdown",
   "metadata": {},
   "source": [
    "### Overview"
   ]
  },
  {
   "cell_type": "markdown",
   "metadata": {},
   "source": [
    "I aim to develop and compare three distinct machine learning models, namely Logistic Regression, Decision Tree Classifier, and Random Forest Classifier, to predict individuals' likelihood of receiving a vaccine. The project will involve preprocessing the dataset, training and tuning the models, and evaluating their performance using appropriate metrics to identify the most effective approach for vaccine distribution prediction."
   ]
  },
  {
   "cell_type": "markdown",
   "metadata": {},
   "source": [
    "### Data"
   ]
  },
  {
   "cell_type": "code",
   "execution_count": 1,
   "metadata": {},
   "outputs": [],
   "source": [
    "#import necessary libraries\n",
    "import numpy as np\n",
    "import pandas as pd\n",
    "%matplotlib inline\n",
    "import statistics\n",
    "import scipy.sparse\n",
    "import matplotlib.pyplot as plt\n",
    "from sklearn.preprocessing import FunctionTransformer, MinMaxScaler, OneHotEncoder\n",
    "from sklearn.preprocessing import OrdinalEncoder\n",
    "from sklearn.pipeline import Pipeline\n",
    "from sklearn.compose import ColumnTransformer\n",
    "from sklearn.model_selection import train_test_split, GridSearchCV\n",
    "from sklearn.linear_model import LogisticRegression\n",
    "from sklearn.impute import SimpleImputer\n",
    "from sklearn.tree import DecisionTreeClassifier\n",
    "from sklearn.ensemble import RandomForestClassifier, GradientBoostingClassifier\n",
    "import seaborn as sns\n",
    "from sklearn.metrics import plot_confusion_matrix, classification_report, accuracy_score\n",
    "import warnings\n",
    "warnings.filterwarnings('ignore')\n",
    "from sklearn.preprocessing import MinMaxScaler\n",
    "from sklearn.metrics import confusion_matrix"
   ]
  },
  {
   "cell_type": "markdown",
   "metadata": {},
   "source": [
    "### Dataset"
   ]
  },
  {
   "cell_type": "markdown",
   "metadata": {},
   "source": [
    "Let's load our data. We are presented with two datasets. One is labeled Training_Set_Features and the second dataset is labeled Training_Set_labels."
   ]
  },
  {
   "cell_type": "code",
   "execution_count": 2,
   "metadata": {},
   "outputs": [],
   "source": [
    "df_features = pd.read_csv(\"Data/training_set_features.csv\")\n",
    "df_labels = pd.read_csv(\"Data/training_set_labels.csv\")"
   ]
  },
  {
   "cell_type": "code",
   "execution_count": 3,
   "metadata": {},
   "outputs": [
    {
     "data": {
      "text/html": [
       "<div>\n",
       "<style scoped>\n",
       "    .dataframe tbody tr th:only-of-type {\n",
       "        vertical-align: middle;\n",
       "    }\n",
       "\n",
       "    .dataframe tbody tr th {\n",
       "        vertical-align: top;\n",
       "    }\n",
       "\n",
       "    .dataframe thead th {\n",
       "        text-align: right;\n",
       "    }\n",
       "</style>\n",
       "<table border=\"1\" class=\"dataframe\">\n",
       "  <thead>\n",
       "    <tr style=\"text-align: right;\">\n",
       "      <th></th>\n",
       "      <th>respondent_id</th>\n",
       "      <th>h1n1_concern</th>\n",
       "      <th>h1n1_knowledge</th>\n",
       "      <th>behavioral_antiviral_meds</th>\n",
       "      <th>behavioral_avoidance</th>\n",
       "      <th>behavioral_face_mask</th>\n",
       "      <th>behavioral_wash_hands</th>\n",
       "      <th>behavioral_large_gatherings</th>\n",
       "      <th>behavioral_outside_home</th>\n",
       "      <th>behavioral_touch_face</th>\n",
       "      <th>...</th>\n",
       "      <th>income_poverty</th>\n",
       "      <th>marital_status</th>\n",
       "      <th>rent_or_own</th>\n",
       "      <th>employment_status</th>\n",
       "      <th>hhs_geo_region</th>\n",
       "      <th>census_msa</th>\n",
       "      <th>household_adults</th>\n",
       "      <th>household_children</th>\n",
       "      <th>employment_industry</th>\n",
       "      <th>employment_occupation</th>\n",
       "    </tr>\n",
       "  </thead>\n",
       "  <tbody>\n",
       "    <tr>\n",
       "      <th>0</th>\n",
       "      <td>0</td>\n",
       "      <td>1.0</td>\n",
       "      <td>0.0</td>\n",
       "      <td>0.0</td>\n",
       "      <td>0.0</td>\n",
       "      <td>0.0</td>\n",
       "      <td>0.0</td>\n",
       "      <td>0.0</td>\n",
       "      <td>1.0</td>\n",
       "      <td>1.0</td>\n",
       "      <td>...</td>\n",
       "      <td>Below Poverty</td>\n",
       "      <td>Not Married</td>\n",
       "      <td>Own</td>\n",
       "      <td>Not in Labor Force</td>\n",
       "      <td>oxchjgsf</td>\n",
       "      <td>Non-MSA</td>\n",
       "      <td>0.0</td>\n",
       "      <td>0.0</td>\n",
       "      <td>NaN</td>\n",
       "      <td>NaN</td>\n",
       "    </tr>\n",
       "    <tr>\n",
       "      <th>1</th>\n",
       "      <td>1</td>\n",
       "      <td>3.0</td>\n",
       "      <td>2.0</td>\n",
       "      <td>0.0</td>\n",
       "      <td>1.0</td>\n",
       "      <td>0.0</td>\n",
       "      <td>1.0</td>\n",
       "      <td>0.0</td>\n",
       "      <td>1.0</td>\n",
       "      <td>1.0</td>\n",
       "      <td>...</td>\n",
       "      <td>Below Poverty</td>\n",
       "      <td>Not Married</td>\n",
       "      <td>Rent</td>\n",
       "      <td>Employed</td>\n",
       "      <td>bhuqouqj</td>\n",
       "      <td>MSA, Not Principle  City</td>\n",
       "      <td>0.0</td>\n",
       "      <td>0.0</td>\n",
       "      <td>pxcmvdjn</td>\n",
       "      <td>xgwztkwe</td>\n",
       "    </tr>\n",
       "    <tr>\n",
       "      <th>2</th>\n",
       "      <td>2</td>\n",
       "      <td>1.0</td>\n",
       "      <td>1.0</td>\n",
       "      <td>0.0</td>\n",
       "      <td>1.0</td>\n",
       "      <td>0.0</td>\n",
       "      <td>0.0</td>\n",
       "      <td>0.0</td>\n",
       "      <td>0.0</td>\n",
       "      <td>0.0</td>\n",
       "      <td>...</td>\n",
       "      <td>&lt;= $75,000, Above Poverty</td>\n",
       "      <td>Not Married</td>\n",
       "      <td>Own</td>\n",
       "      <td>Employed</td>\n",
       "      <td>qufhixun</td>\n",
       "      <td>MSA, Not Principle  City</td>\n",
       "      <td>2.0</td>\n",
       "      <td>0.0</td>\n",
       "      <td>rucpziij</td>\n",
       "      <td>xtkaffoo</td>\n",
       "    </tr>\n",
       "    <tr>\n",
       "      <th>3</th>\n",
       "      <td>3</td>\n",
       "      <td>1.0</td>\n",
       "      <td>1.0</td>\n",
       "      <td>0.0</td>\n",
       "      <td>1.0</td>\n",
       "      <td>0.0</td>\n",
       "      <td>1.0</td>\n",
       "      <td>1.0</td>\n",
       "      <td>0.0</td>\n",
       "      <td>0.0</td>\n",
       "      <td>...</td>\n",
       "      <td>Below Poverty</td>\n",
       "      <td>Not Married</td>\n",
       "      <td>Rent</td>\n",
       "      <td>Not in Labor Force</td>\n",
       "      <td>lrircsnp</td>\n",
       "      <td>MSA, Principle City</td>\n",
       "      <td>0.0</td>\n",
       "      <td>0.0</td>\n",
       "      <td>NaN</td>\n",
       "      <td>NaN</td>\n",
       "    </tr>\n",
       "    <tr>\n",
       "      <th>4</th>\n",
       "      <td>4</td>\n",
       "      <td>2.0</td>\n",
       "      <td>1.0</td>\n",
       "      <td>0.0</td>\n",
       "      <td>1.0</td>\n",
       "      <td>0.0</td>\n",
       "      <td>1.0</td>\n",
       "      <td>1.0</td>\n",
       "      <td>0.0</td>\n",
       "      <td>1.0</td>\n",
       "      <td>...</td>\n",
       "      <td>&lt;= $75,000, Above Poverty</td>\n",
       "      <td>Married</td>\n",
       "      <td>Own</td>\n",
       "      <td>Employed</td>\n",
       "      <td>qufhixun</td>\n",
       "      <td>MSA, Not Principle  City</td>\n",
       "      <td>1.0</td>\n",
       "      <td>0.0</td>\n",
       "      <td>wxleyezf</td>\n",
       "      <td>emcorrxb</td>\n",
       "    </tr>\n",
       "  </tbody>\n",
       "</table>\n",
       "<p>5 rows × 36 columns</p>\n",
       "</div>"
      ],
      "text/plain": [
       "   respondent_id  h1n1_concern  h1n1_knowledge  behavioral_antiviral_meds  \\\n",
       "0              0           1.0             0.0                        0.0   \n",
       "1              1           3.0             2.0                        0.0   \n",
       "2              2           1.0             1.0                        0.0   \n",
       "3              3           1.0             1.0                        0.0   \n",
       "4              4           2.0             1.0                        0.0   \n",
       "\n",
       "   behavioral_avoidance  behavioral_face_mask  behavioral_wash_hands  \\\n",
       "0                   0.0                   0.0                    0.0   \n",
       "1                   1.0                   0.0                    1.0   \n",
       "2                   1.0                   0.0                    0.0   \n",
       "3                   1.0                   0.0                    1.0   \n",
       "4                   1.0                   0.0                    1.0   \n",
       "\n",
       "   behavioral_large_gatherings  behavioral_outside_home  \\\n",
       "0                          0.0                      1.0   \n",
       "1                          0.0                      1.0   \n",
       "2                          0.0                      0.0   \n",
       "3                          1.0                      0.0   \n",
       "4                          1.0                      0.0   \n",
       "\n",
       "   behavioral_touch_face  ...             income_poverty  marital_status  \\\n",
       "0                    1.0  ...              Below Poverty     Not Married   \n",
       "1                    1.0  ...              Below Poverty     Not Married   \n",
       "2                    0.0  ...  <= $75,000, Above Poverty     Not Married   \n",
       "3                    0.0  ...              Below Poverty     Not Married   \n",
       "4                    1.0  ...  <= $75,000, Above Poverty         Married   \n",
       "\n",
       "   rent_or_own   employment_status  hhs_geo_region                census_msa  \\\n",
       "0          Own  Not in Labor Force        oxchjgsf                   Non-MSA   \n",
       "1         Rent            Employed        bhuqouqj  MSA, Not Principle  City   \n",
       "2          Own            Employed        qufhixun  MSA, Not Principle  City   \n",
       "3         Rent  Not in Labor Force        lrircsnp       MSA, Principle City   \n",
       "4          Own            Employed        qufhixun  MSA, Not Principle  City   \n",
       "\n",
       "   household_adults  household_children  employment_industry  \\\n",
       "0               0.0                 0.0                  NaN   \n",
       "1               0.0                 0.0             pxcmvdjn   \n",
       "2               2.0                 0.0             rucpziij   \n",
       "3               0.0                 0.0                  NaN   \n",
       "4               1.0                 0.0             wxleyezf   \n",
       "\n",
       "   employment_occupation  \n",
       "0                    NaN  \n",
       "1               xgwztkwe  \n",
       "2               xtkaffoo  \n",
       "3                    NaN  \n",
       "4               emcorrxb  \n",
       "\n",
       "[5 rows x 36 columns]"
      ]
     },
     "execution_count": 3,
     "metadata": {},
     "output_type": "execute_result"
    }
   ],
   "source": [
    "df_features.head()"
   ]
  },
  {
   "cell_type": "code",
   "execution_count": 4,
   "metadata": {},
   "outputs": [
    {
     "data": {
      "text/html": [
       "<div>\n",
       "<style scoped>\n",
       "    .dataframe tbody tr th:only-of-type {\n",
       "        vertical-align: middle;\n",
       "    }\n",
       "\n",
       "    .dataframe tbody tr th {\n",
       "        vertical-align: top;\n",
       "    }\n",
       "\n",
       "    .dataframe thead th {\n",
       "        text-align: right;\n",
       "    }\n",
       "</style>\n",
       "<table border=\"1\" class=\"dataframe\">\n",
       "  <thead>\n",
       "    <tr style=\"text-align: right;\">\n",
       "      <th></th>\n",
       "      <th>respondent_id</th>\n",
       "      <th>h1n1_vaccine</th>\n",
       "      <th>seasonal_vaccine</th>\n",
       "    </tr>\n",
       "  </thead>\n",
       "  <tbody>\n",
       "    <tr>\n",
       "      <th>0</th>\n",
       "      <td>0</td>\n",
       "      <td>0</td>\n",
       "      <td>0</td>\n",
       "    </tr>\n",
       "    <tr>\n",
       "      <th>1</th>\n",
       "      <td>1</td>\n",
       "      <td>0</td>\n",
       "      <td>1</td>\n",
       "    </tr>\n",
       "    <tr>\n",
       "      <th>2</th>\n",
       "      <td>2</td>\n",
       "      <td>0</td>\n",
       "      <td>0</td>\n",
       "    </tr>\n",
       "    <tr>\n",
       "      <th>3</th>\n",
       "      <td>3</td>\n",
       "      <td>0</td>\n",
       "      <td>1</td>\n",
       "    </tr>\n",
       "    <tr>\n",
       "      <th>4</th>\n",
       "      <td>4</td>\n",
       "      <td>0</td>\n",
       "      <td>0</td>\n",
       "    </tr>\n",
       "  </tbody>\n",
       "</table>\n",
       "</div>"
      ],
      "text/plain": [
       "   respondent_id  h1n1_vaccine  seasonal_vaccine\n",
       "0              0             0                 0\n",
       "1              1             0                 1\n",
       "2              2             0                 0\n",
       "3              3             0                 1\n",
       "4              4             0                 0"
      ]
     },
     "execution_count": 4,
     "metadata": {},
     "output_type": "execute_result"
    }
   ],
   "source": [
    "df_labels.head()"
   ]
  },
  {
   "cell_type": "markdown",
   "metadata": {},
   "source": [
    "The df_labels dataset include the respondent_id as well as data for the h1n1 vaccine and seasonal vacccine."
   ]
  },
  {
   "cell_type": "markdown",
   "metadata": {},
   "source": [
    "### Exploratory Data Analysis"
   ]
  },
  {
   "cell_type": "markdown",
   "metadata": {},
   "source": [
    "It's time to explore the dataset. I want to understand the datatypes, check for missing values and check the distribution of the target variables, which is the H1N1 vaccine and seasonal flu vaccine. "
   ]
  },
  {
   "cell_type": "markdown",
   "metadata": {},
   "source": [
    "Our dataset labeled df_features has 36 columns and the responded_id is an identifier."
   ]
  },
  {
   "cell_type": "code",
   "execution_count": 5,
   "metadata": {},
   "outputs": [
    {
     "name": "stdout",
     "output_type": "stream",
     "text": [
      "<class 'pandas.core.frame.DataFrame'>\n",
      "RangeIndex: 26707 entries, 0 to 26706\n",
      "Data columns (total 3 columns):\n",
      " #   Column            Non-Null Count  Dtype\n",
      "---  ------            --------------  -----\n",
      " 0   respondent_id     26707 non-null  int64\n",
      " 1   h1n1_vaccine      26707 non-null  int64\n",
      " 2   seasonal_vaccine  26707 non-null  int64\n",
      "dtypes: int64(3)\n",
      "memory usage: 626.1 KB\n"
     ]
    }
   ],
   "source": [
    "df_labels.info()"
   ]
  },
  {
   "cell_type": "markdown",
   "metadata": {},
   "source": [
    "The df_labels dataset contais binary variables. 0 = No 1 = Yes, respondents answered either yes or no for each vaccine. To visualize this, I will create a bar graph."
   ]
  },
  {
   "cell_type": "code",
   "execution_count": 6,
   "metadata": {},
   "outputs": [
    {
     "data": {
      "image/png": "[encoded data removed]",
      "text/plain": [
       "<Figure size 432x288 with 1 Axes>"
      ]
     },
     "metadata": {
      "needs_background": "light"
     },
     "output_type": "display_data"
    }
   ],
   "source": [
    "#create bar graph\n",
    "fig, ax = plt.subplots()\n",
    "df_labels['seasonal_vaccine'].value_counts().plot.barh(title=\"Seasonal Flu Vaccine Count\")\n",
    "#add labels and title\n",
    "ax.set_yticklabels([\"No\", \"Yes\"])\n",
    "ax.set_ylabel(\" Recieved Vaccine\")\n",
    "#show plot\n",
    "fig.tight_layout()"
   ]
  },
  {
   "cell_type": "code",
   "execution_count": 7,
   "metadata": {},
   "outputs": [
    {
     "name": "stdout",
     "output_type": "stream",
     "text": [
      "Number of people who got the seasonal flu vaccine: 12435\n",
      "Number of people who did not get the seasonal flu vaccine: 14272\n"
     ]
    }
   ],
   "source": [
    "# Count the number of people who got the seasonal flu vaccine\n",
    "num_seasonal_vaccine = len(df_labels[df_labels['seasonal_vaccine'] == 1])\n",
    "\n",
    "# Count the number of people who did not get the seasonal flu vaccine\n",
    "num_seasonal_vaccine_no = len(df_labels[df_labels['seasonal_vaccine'] == 0])\n",
    "\n",
    "# Print the result of people who got the seasonal flu vaccine\n",
    "print(\"Number of people who got the seasonal flu vaccine:\", num_seasonal_vaccine)\n",
    "\n",
    "# Print the result of people who did not get the seasonal flu vaccine\n",
    "print(\"Number of people who did not get the seasonal flu vaccine:\", num_seasonal_vaccine_no)"
   ]
  },
  {
   "cell_type": "code",
   "execution_count": 8,
   "metadata": {},
   "outputs": [
    {
     "data": {
      "image/png": "[encoded data removed]",
      "text/plain": [
       "<Figure size 432x288 with 1 Axes>"
      ]
     },
     "metadata": {
      "needs_background": "light"
     },
     "output_type": "display_data"
    }
   ],
   "source": [
    "# small bar graph comparing who recieved the vaccine and who didn't\n",
    "fig, ax = plt.subplots()\n",
    "df_labels['h1n1_vaccine'].value_counts().plot.barh(title=\"H1N1 Vaccine Count\")\n",
    "#add labels and title\n",
    "ax.set_yticklabels([\"No\", \"Yes\"])\n",
    "ax.set_ylabel(\" Recieved Vaccine\")\n",
    "#show plot\n",
    "fig.tight_layout()"
   ]
  },
  {
   "cell_type": "code",
   "execution_count": 9,
   "metadata": {},
   "outputs": [
    {
     "name": "stdout",
     "output_type": "stream",
     "text": [
      "Number of people who got the h1n1 vaccine: 5674\n",
      "Number of people did not get the h1n1 vaccine: 21033\n"
     ]
    }
   ],
   "source": [
    "# Count the number of people who got the h1n1 flu vaccine\n",
    "num_h1n1_vaccine = len(df_labels[df_labels['h1n1_vaccine'] == 1])\n",
    "\n",
    "# Count the number of people who did not get the h1n1 vaccine\n",
    "\n",
    "num_h1n1_vaccine_no = len(df_labels[df_labels['h1n1_vaccine'] == 0])\n",
    "\n",
    "# Print the result\n",
    "print(\"Number of people who got the h1n1 vaccine:\", num_h1n1_vaccine)\n",
    "\n",
    "# Print the number of people who did not get the h1n1 vaccine\n",
    "print(\"Number of people did not get the h1n1 vaccine:\", num_h1n1_vaccine_no)"
   ]
  },
  {
   "cell_type": "markdown",
   "metadata": {},
   "source": [
    "According to the bar graph, more respondents received the flu vaccine rather than the H1N1 vaccine. This doesn't tell me much so let's look at other features in the dataset."
   ]
  },
  {
   "cell_type": "markdown",
   "metadata": {},
   "source": [
    "### Features"
   ]
  },
  {
   "cell_type": "code",
   "execution_count": 10,
   "metadata": {},
   "outputs": [
    {
     "name": "stdout",
     "output_type": "stream",
     "text": [
      "<class 'pandas.core.frame.DataFrame'>\n",
      "RangeIndex: 26707 entries, 0 to 26706\n",
      "Data columns (total 36 columns):\n",
      " #   Column                       Non-Null Count  Dtype  \n",
      "---  ------                       --------------  -----  \n",
      " 0   respondent_id                26707 non-null  int64  \n",
      " 1   h1n1_concern                 26615 non-null  float64\n",
      " 2   h1n1_knowledge               26591 non-null  float64\n",
      " 3   behavioral_antiviral_meds    26636 non-null  float64\n",
      " 4   behavioral_avoidance         26499 non-null  float64\n",
      " 5   behavioral_face_mask         26688 non-null  float64\n",
      " 6   behavioral_wash_hands        26665 non-null  float64\n",
      " 7   behavioral_large_gatherings  26620 non-null  float64\n",
      " 8   behavioral_outside_home      26625 non-null  float64\n",
      " 9   behavioral_touch_face        26579 non-null  float64\n",
      " 10  doctor_recc_h1n1             24547 non-null  float64\n",
      " 11  doctor_recc_seasonal         24547 non-null  float64\n",
      " 12  chronic_med_condition        25736 non-null  float64\n",
      " 13  child_under_6_months         25887 non-null  float64\n",
      " 14  health_worker                25903 non-null  float64\n",
      " 15  health_insurance             14433 non-null  float64\n",
      " 16  opinion_h1n1_vacc_effective  26316 non-null  float64\n",
      " 17  opinion_h1n1_risk            26319 non-null  float64\n",
      " 18  opinion_h1n1_sick_from_vacc  26312 non-null  float64\n",
      " 19  opinion_seas_vacc_effective  26245 non-null  float64\n",
      " 20  opinion_seas_risk            26193 non-null  float64\n",
      " 21  opinion_seas_sick_from_vacc  26170 non-null  float64\n",
      " 22  age_group                    26707 non-null  object \n",
      " 23  education                    25300 non-null  object \n",
      " 24  race                         26707 non-null  object \n",
      " 25  sex                          26707 non-null  object \n",
      " 26  income_poverty               22284 non-null  object \n",
      " 27  marital_status               25299 non-null  object \n",
      " 28  rent_or_own                  24665 non-null  object \n",
      " 29  employment_status            25244 non-null  object \n",
      " 30  hhs_geo_region               26707 non-null  object \n",
      " 31  census_msa                   26707 non-null  object \n",
      " 32  household_adults             26458 non-null  float64\n",
      " 33  household_children           26458 non-null  float64\n",
      " 34  employment_industry          13377 non-null  object \n",
      " 35  employment_occupation        13237 non-null  object \n",
      "dtypes: float64(23), int64(1), object(12)\n",
      "memory usage: 7.3+ MB\n"
     ]
    }
   ],
   "source": [
    "df_features.info()"
   ]
  },
  {
   "cell_type": "markdown",
   "metadata": {},
   "source": [
    "For the full description of features <a href=\"https://www.drivendata.org/competitions/66/flu-shot-learning/page/211/\"> you can find it on Drivendata.org </a> "
   ]
  },
  {
   "cell_type": "markdown",
   "metadata": {},
   "source": [
    "For all binary variables: 0 = No; 1 = Yes.\n",
    "1. h1n1_concern - Level of concern about the H1N1 flu \n",
    "2. h1n1_knowledge\n",
    "3. behavioral_antiviral_meds - Has taken antiviral medications. (binary)\n",
    "4. behavioral_avoidance - Has avoided close contact with others with flu-like symptoms.\n",
    "(binary)\n",
    "5. behavioral_face_mask - Has bought a face mask. (binary)\n",
    "6. behavioral_wash_hands - Has frequently washed hands or used hand sanitizer. (binary)\n",
    "7. behavioral_large_gatherings - Has reduced time at large gatherings. (binary)\n",
    "8. behavioral_outside_home - Has reduced contact with people outside of own household.\n",
    "(binary)\n",
    "9. behavioral_touch_face - Has avoided touching eyes, nose, or mouth. (binary) \n",
    "10. doctor_recc_h1n1 - H1N1 flu vaccine was recommended by doctor. (binary)\n",
    "11. doctor_recc_seasonal - Seasonal flu vaccine was recommended by doctor. (binary)\n",
    "12. chronic_med_condition - Has any of the following chronic medical conditions: asthma or an other lung condition, diabetes, a heart condition, a kidney condition, sickle cell anemia or other anemia, a neurological or neuromuscular condition, a liver condition, or a weakened immune system caused by a chronic illness or by medicines taken for a chronic illness. (binary)\n",
    "13. child_under_6_months - Has regular close contact with a child under the age of six months. (binary)\n",
    "14. health_worker - Is a healthcare worker. (binary)\n",
    "15. health_insurance - Has health insurance. (binary)\n",
    "16. opinion_h1n1_vacc_effective - Respondent's opinion about H1N1 vaccine effectiveness. 1= Not at all effective; 2 = Not very effective; 3 = Don't know; 4 = Somewhat effective; 5 = Very effective.\n",
    "17. opinion_h1n1_risk - Respondent's opinion about risk of getting sick with H1N1 flu without vaccine.1 = Very Low; 2 = Somewhat low; 3 = Don't know; 4 = Somewhat high; 5 = Very high.\n",
    "18. opinion_h1n1_sick_from_vacc - Respondent's worry of getting sick from taking H1N1 vaccine.1 = Not at all worried; 2 = Not very worried; 3 = Don't know; 4 = Somewhat worried; 5 = Very worried.\n",
    "19. opinion_seas_vacc_effective - Respondent's opinion about seasonal flu vaccine effectiveness.1 = Not at all effective; 2 = Not very effective; 3 = Don't know; 4 = Somewhat effective; 5 = Very effective.\n",
    "20. opinion_seas_risk - Respondent's opinion about risk of getting sick with seasonal flu without vaccine.1 = Very Low; 2 = Somewhat low; 3 = Don't know; 4 = Somewhat high; 5 = Very high.\n",
    "21. opinion_seas_sick_from_vacc - Respondent's worry of getting sick from taking seasonal flu vaccine.1 = Not at all worried; 2 = Not very worried; 3 = Don't know; 4 = Somewhat worried; 5 = Very worried.\n",
    "22. age_group - Age group of respondent.\n",
    "23. education - Self-reported education level.\n",
    "24. race - Race of respondent.\n",
    "25. sex - Sex of respondent.\n",
    "26. income_poverty - Household annual income of respondent with respect to 2008 Census poverty thresholds.\n",
    "27. marital_status - Marital status of respondent.\n",
    "28. rent_or_own - Housing situation of respondent.\n",
    "29. employment_status - Employment status of respondent.\n",
    "30. hhs_geo_region - Respondent's residence using a 10-region geographic classification defined by the U.S. Dept. of Health and Human Services. Values are represented as short random character strings.\n",
    "31. census_msa - Respondent's residence within metropolitan statistical areas (MSA) as defined by the U.S. Census.\n",
    "32. household_adults - Number of other adults in household, top-coded to 3.\n",
    "33. household_children - Number of children in household, top-coded to 3.\n",
    "34. employment_industry - Type of industry respondent is employed in. Values are represented as short random character strings.\n",
    "35. employment_occupation - Type of occupation of respondent. Values are represented as short random character strings"
   ]
  },
  {
   "cell_type": "markdown",
   "metadata": {},
   "source": [
    "That's a lot of information and it looks like the columns are mixed with flu and h1n1 vaccines. In our exploratory data analysis, we saw that less than half of the respondents recieved the h1n1 vaccine. Due to the low number, I will leave out the data from h1n1 vaccines, entirely and focus on the seasonal flu vaccine data. "
   ]
  },
  {
   "cell_type": "markdown",
   "metadata": {},
   "source": [
    "### Exploratory Data Analysis of Seasonal Flu Vaccine "
   ]
  },
  {
   "cell_type": "markdown",
   "metadata": {},
   "source": [
    "From our df_features dataset, we are going to drop columns that have h1n1 vaccination data. Since we don't need the data from h1n1 respondents, I will also drop those columns in our df_labels dataset. We will keep the respondent_ID for both datasets."
   ]
  },
  {
   "cell_type": "code",
   "execution_count": 11,
   "metadata": {},
   "outputs": [
    {
     "data": {
      "text/html": [
       "<div>\n",
       "<style scoped>\n",
       "    .dataframe tbody tr th:only-of-type {\n",
       "        vertical-align: middle;\n",
       "    }\n",
       "\n",
       "    .dataframe tbody tr th {\n",
       "        vertical-align: top;\n",
       "    }\n",
       "\n",
       "    .dataframe thead th {\n",
       "        text-align: right;\n",
       "    }\n",
       "</style>\n",
       "<table border=\"1\" class=\"dataframe\">\n",
       "  <thead>\n",
       "    <tr style=\"text-align: right;\">\n",
       "      <th></th>\n",
       "      <th>respondent_id</th>\n",
       "      <th>behavioral_antiviral_meds</th>\n",
       "      <th>behavioral_avoidance</th>\n",
       "      <th>behavioral_face_mask</th>\n",
       "      <th>behavioral_wash_hands</th>\n",
       "      <th>behavioral_large_gatherings</th>\n",
       "      <th>behavioral_outside_home</th>\n",
       "      <th>behavioral_touch_face</th>\n",
       "      <th>doctor_recc_seasonal</th>\n",
       "      <th>chronic_med_condition</th>\n",
       "      <th>...</th>\n",
       "      <th>education</th>\n",
       "      <th>race</th>\n",
       "      <th>sex</th>\n",
       "      <th>income_poverty</th>\n",
       "      <th>marital_status</th>\n",
       "      <th>rent_or_own</th>\n",
       "      <th>employment_status</th>\n",
       "      <th>census_msa</th>\n",
       "      <th>household_adults</th>\n",
       "      <th>household_children</th>\n",
       "    </tr>\n",
       "  </thead>\n",
       "  <tbody>\n",
       "    <tr>\n",
       "      <th>0</th>\n",
       "      <td>0</td>\n",
       "      <td>0.0</td>\n",
       "      <td>0.0</td>\n",
       "      <td>0.0</td>\n",
       "      <td>0.0</td>\n",
       "      <td>0.0</td>\n",
       "      <td>1.0</td>\n",
       "      <td>1.0</td>\n",
       "      <td>0.0</td>\n",
       "      <td>0.0</td>\n",
       "      <td>...</td>\n",
       "      <td>&lt; 12 Years</td>\n",
       "      <td>White</td>\n",
       "      <td>Female</td>\n",
       "      <td>Below Poverty</td>\n",
       "      <td>Not Married</td>\n",
       "      <td>Own</td>\n",
       "      <td>Not in Labor Force</td>\n",
       "      <td>Non-MSA</td>\n",
       "      <td>0.0</td>\n",
       "      <td>0.0</td>\n",
       "    </tr>\n",
       "    <tr>\n",
       "      <th>1</th>\n",
       "      <td>1</td>\n",
       "      <td>0.0</td>\n",
       "      <td>1.0</td>\n",
       "      <td>0.0</td>\n",
       "      <td>1.0</td>\n",
       "      <td>0.0</td>\n",
       "      <td>1.0</td>\n",
       "      <td>1.0</td>\n",
       "      <td>0.0</td>\n",
       "      <td>0.0</td>\n",
       "      <td>...</td>\n",
       "      <td>12 Years</td>\n",
       "      <td>White</td>\n",
       "      <td>Male</td>\n",
       "      <td>Below Poverty</td>\n",
       "      <td>Not Married</td>\n",
       "      <td>Rent</td>\n",
       "      <td>Employed</td>\n",
       "      <td>MSA, Not Principle  City</td>\n",
       "      <td>0.0</td>\n",
       "      <td>0.0</td>\n",
       "    </tr>\n",
       "    <tr>\n",
       "      <th>2</th>\n",
       "      <td>2</td>\n",
       "      <td>0.0</td>\n",
       "      <td>1.0</td>\n",
       "      <td>0.0</td>\n",
       "      <td>0.0</td>\n",
       "      <td>0.0</td>\n",
       "      <td>0.0</td>\n",
       "      <td>0.0</td>\n",
       "      <td>NaN</td>\n",
       "      <td>1.0</td>\n",
       "      <td>...</td>\n",
       "      <td>College Graduate</td>\n",
       "      <td>White</td>\n",
       "      <td>Male</td>\n",
       "      <td>&lt;= $75,000, Above Poverty</td>\n",
       "      <td>Not Married</td>\n",
       "      <td>Own</td>\n",
       "      <td>Employed</td>\n",
       "      <td>MSA, Not Principle  City</td>\n",
       "      <td>2.0</td>\n",
       "      <td>0.0</td>\n",
       "    </tr>\n",
       "    <tr>\n",
       "      <th>3</th>\n",
       "      <td>3</td>\n",
       "      <td>0.0</td>\n",
       "      <td>1.0</td>\n",
       "      <td>0.0</td>\n",
       "      <td>1.0</td>\n",
       "      <td>1.0</td>\n",
       "      <td>0.0</td>\n",
       "      <td>0.0</td>\n",
       "      <td>1.0</td>\n",
       "      <td>1.0</td>\n",
       "      <td>...</td>\n",
       "      <td>12 Years</td>\n",
       "      <td>White</td>\n",
       "      <td>Female</td>\n",
       "      <td>Below Poverty</td>\n",
       "      <td>Not Married</td>\n",
       "      <td>Rent</td>\n",
       "      <td>Not in Labor Force</td>\n",
       "      <td>MSA, Principle City</td>\n",
       "      <td>0.0</td>\n",
       "      <td>0.0</td>\n",
       "    </tr>\n",
       "    <tr>\n",
       "      <th>4</th>\n",
       "      <td>4</td>\n",
       "      <td>0.0</td>\n",
       "      <td>1.0</td>\n",
       "      <td>0.0</td>\n",
       "      <td>1.0</td>\n",
       "      <td>1.0</td>\n",
       "      <td>0.0</td>\n",
       "      <td>1.0</td>\n",
       "      <td>0.0</td>\n",
       "      <td>0.0</td>\n",
       "      <td>...</td>\n",
       "      <td>Some College</td>\n",
       "      <td>White</td>\n",
       "      <td>Female</td>\n",
       "      <td>&lt;= $75,000, Above Poverty</td>\n",
       "      <td>Married</td>\n",
       "      <td>Own</td>\n",
       "      <td>Employed</td>\n",
       "      <td>MSA, Not Principle  City</td>\n",
       "      <td>1.0</td>\n",
       "      <td>0.0</td>\n",
       "    </tr>\n",
       "  </tbody>\n",
       "</table>\n",
       "<p>5 rows × 27 columns</p>\n",
       "</div>"
      ],
      "text/plain": [
       "   respondent_id  behavioral_antiviral_meds  behavioral_avoidance  \\\n",
       "0              0                        0.0                   0.0   \n",
       "1              1                        0.0                   1.0   \n",
       "2              2                        0.0                   1.0   \n",
       "3              3                        0.0                   1.0   \n",
       "4              4                        0.0                   1.0   \n",
       "\n",
       "   behavioral_face_mask  behavioral_wash_hands  behavioral_large_gatherings  \\\n",
       "0                   0.0                    0.0                          0.0   \n",
       "1                   0.0                    1.0                          0.0   \n",
       "2                   0.0                    0.0                          0.0   \n",
       "3                   0.0                    1.0                          1.0   \n",
       "4                   0.0                    1.0                          1.0   \n",
       "\n",
       "   behavioral_outside_home  behavioral_touch_face  doctor_recc_seasonal  \\\n",
       "0                      1.0                    1.0                   0.0   \n",
       "1                      1.0                    1.0                   0.0   \n",
       "2                      0.0                    0.0                   NaN   \n",
       "3                      0.0                    0.0                   1.0   \n",
       "4                      0.0                    1.0                   0.0   \n",
       "\n",
       "   chronic_med_condition  ...         education   race     sex  \\\n",
       "0                    0.0  ...        < 12 Years  White  Female   \n",
       "1                    0.0  ...          12 Years  White    Male   \n",
       "2                    1.0  ...  College Graduate  White    Male   \n",
       "3                    1.0  ...          12 Years  White  Female   \n",
       "4                    0.0  ...      Some College  White  Female   \n",
       "\n",
       "              income_poverty  marital_status  rent_or_own   employment_status  \\\n",
       "0              Below Poverty     Not Married          Own  Not in Labor Force   \n",
       "1              Below Poverty     Not Married         Rent            Employed   \n",
       "2  <= $75,000, Above Poverty     Not Married          Own            Employed   \n",
       "3              Below Poverty     Not Married         Rent  Not in Labor Force   \n",
       "4  <= $75,000, Above Poverty         Married          Own            Employed   \n",
       "\n",
       "                 census_msa household_adults household_children  \n",
       "0                   Non-MSA              0.0                0.0  \n",
       "1  MSA, Not Principle  City              0.0                0.0  \n",
       "2  MSA, Not Principle  City              2.0                0.0  \n",
       "3       MSA, Principle City              0.0                0.0  \n",
       "4  MSA, Not Principle  City              1.0                0.0  \n",
       "\n",
       "[5 rows x 27 columns]"
      ]
     },
     "execution_count": 11,
     "metadata": {},
     "output_type": "execute_result"
    }
   ],
   "source": [
    "# Renaming the df_features dataframe to flu_features\n",
    "flu_features = df_features.drop(['h1n1_concern', 'h1n1_knowledge', 'doctor_recc_h1n1',\n",
    "'opinion_h1n1_vacc_effective', 'opinion_h1n1_risk','opinion_h1n1_sick_from_vacc', 'hhs_geo_region',\n",
    "'employment_industry', 'employment_occupation'], axis = 1)\n",
    "flu_features.head() "
   ]
  },
  {
   "cell_type": "code",
   "execution_count": 12,
   "metadata": {},
   "outputs": [
    {
     "data": {
      "text/html": [
       "<div>\n",
       "<style scoped>\n",
       "    .dataframe tbody tr th:only-of-type {\n",
       "        vertical-align: middle;\n",
       "    }\n",
       "\n",
       "    .dataframe tbody tr th {\n",
       "        vertical-align: top;\n",
       "    }\n",
       "\n",
       "    .dataframe thead th {\n",
       "        text-align: right;\n",
       "    }\n",
       "</style>\n",
       "<table border=\"1\" class=\"dataframe\">\n",
       "  <thead>\n",
       "    <tr style=\"text-align: right;\">\n",
       "      <th></th>\n",
       "      <th>respondent_id</th>\n",
       "      <th>seasonal_vaccine</th>\n",
       "    </tr>\n",
       "  </thead>\n",
       "  <tbody>\n",
       "    <tr>\n",
       "      <th>0</th>\n",
       "      <td>0</td>\n",
       "      <td>0</td>\n",
       "    </tr>\n",
       "    <tr>\n",
       "      <th>1</th>\n",
       "      <td>1</td>\n",
       "      <td>1</td>\n",
       "    </tr>\n",
       "    <tr>\n",
       "      <th>2</th>\n",
       "      <td>2</td>\n",
       "      <td>0</td>\n",
       "    </tr>\n",
       "    <tr>\n",
       "      <th>3</th>\n",
       "      <td>3</td>\n",
       "      <td>1</td>\n",
       "    </tr>\n",
       "    <tr>\n",
       "      <th>4</th>\n",
       "      <td>4</td>\n",
       "      <td>0</td>\n",
       "    </tr>\n",
       "  </tbody>\n",
       "</table>\n",
       "</div>"
      ],
      "text/plain": [
       "   respondent_id  seasonal_vaccine\n",
       "0              0                 0\n",
       "1              1                 1\n",
       "2              2                 0\n",
       "3              3                 1\n",
       "4              4                 0"
      ]
     },
     "execution_count": 12,
     "metadata": {},
     "output_type": "execute_result"
    }
   ],
   "source": [
    "# Renaming the df_labels dataframe to df_seasonal_lables\n",
    "df_seasonal_labels = df_labels.drop(['h1n1_vaccine'], axis = 1) \n",
    "df_seasonal_labels.head()"
   ]
  },
  {
   "cell_type": "markdown",
   "metadata": {},
   "source": [
    "Since I'm still exploring the data. I will create a new df that joins df_features and df_labels so I can get a better understanding of the datasets. To do this, I have the respondent_id columns from both datasets. First, I will use a simple conditional statement to check to see if the respondent_IDs are the same. "
   ]
  },
  {
   "cell_type": "code",
   "execution_count": 13,
   "metadata": {},
   "outputs": [
    {
     "name": "stdout",
     "output_type": "stream",
     "text": [
      "The respondent IDs are the same in both dataframes.\n"
     ]
    }
   ],
   "source": [
    "if set(flu_features['respondent_id']) == set(df_seasonal_labels['respondent_id']):\n",
    "    print(\"The respondent IDs are the same in both dataframes.\")\n",
    "else:\n",
    "    print(\"The respondent IDs are not the same in both dataframes.\")"
   ]
  },
  {
   "cell_type": "markdown",
   "metadata": {},
   "source": [
    "Great! The respondent_id are the same in both dataframes, so now I can create a joined_df dataframe."
   ]
  },
  {
   "cell_type": "code",
   "execution_count": 14,
   "metadata": {},
   "outputs": [
    {
     "data": {
      "text/html": [
       "<div>\n",
       "<style scoped>\n",
       "    .dataframe tbody tr th:only-of-type {\n",
       "        vertical-align: middle;\n",
       "    }\n",
       "\n",
       "    .dataframe tbody tr th {\n",
       "        vertical-align: top;\n",
       "    }\n",
       "\n",
       "    .dataframe thead th {\n",
       "        text-align: right;\n",
       "    }\n",
       "</style>\n",
       "<table border=\"1\" class=\"dataframe\">\n",
       "  <thead>\n",
       "    <tr style=\"text-align: right;\">\n",
       "      <th></th>\n",
       "      <th>respondent_id</th>\n",
       "      <th>behavioral_antiviral_meds</th>\n",
       "      <th>behavioral_avoidance</th>\n",
       "      <th>behavioral_face_mask</th>\n",
       "      <th>behavioral_wash_hands</th>\n",
       "      <th>behavioral_large_gatherings</th>\n",
       "      <th>behavioral_outside_home</th>\n",
       "      <th>behavioral_touch_face</th>\n",
       "      <th>doctor_recc_seasonal</th>\n",
       "      <th>chronic_med_condition</th>\n",
       "      <th>...</th>\n",
       "      <th>race</th>\n",
       "      <th>sex</th>\n",
       "      <th>income_poverty</th>\n",
       "      <th>marital_status</th>\n",
       "      <th>rent_or_own</th>\n",
       "      <th>employment_status</th>\n",
       "      <th>census_msa</th>\n",
       "      <th>household_adults</th>\n",
       "      <th>household_children</th>\n",
       "      <th>seasonal_vaccine</th>\n",
       "    </tr>\n",
       "  </thead>\n",
       "  <tbody>\n",
       "    <tr>\n",
       "      <th>0</th>\n",
       "      <td>0</td>\n",
       "      <td>0.0</td>\n",
       "      <td>0.0</td>\n",
       "      <td>0.0</td>\n",
       "      <td>0.0</td>\n",
       "      <td>0.0</td>\n",
       "      <td>1.0</td>\n",
       "      <td>1.0</td>\n",
       "      <td>0.0</td>\n",
       "      <td>0.0</td>\n",
       "      <td>...</td>\n",
       "      <td>White</td>\n",
       "      <td>Female</td>\n",
       "      <td>Below Poverty</td>\n",
       "      <td>Not Married</td>\n",
       "      <td>Own</td>\n",
       "      <td>Not in Labor Force</td>\n",
       "      <td>Non-MSA</td>\n",
       "      <td>0.0</td>\n",
       "      <td>0.0</td>\n",
       "      <td>0</td>\n",
       "    </tr>\n",
       "    <tr>\n",
       "      <th>1</th>\n",
       "      <td>1</td>\n",
       "      <td>0.0</td>\n",
       "      <td>1.0</td>\n",
       "      <td>0.0</td>\n",
       "      <td>1.0</td>\n",
       "      <td>0.0</td>\n",
       "      <td>1.0</td>\n",
       "      <td>1.0</td>\n",
       "      <td>0.0</td>\n",
       "      <td>0.0</td>\n",
       "      <td>...</td>\n",
       "      <td>White</td>\n",
       "      <td>Male</td>\n",
       "      <td>Below Poverty</td>\n",
       "      <td>Not Married</td>\n",
       "      <td>Rent</td>\n",
       "      <td>Employed</td>\n",
       "      <td>MSA, Not Principle  City</td>\n",
       "      <td>0.0</td>\n",
       "      <td>0.0</td>\n",
       "      <td>1</td>\n",
       "    </tr>\n",
       "    <tr>\n",
       "      <th>2</th>\n",
       "      <td>2</td>\n",
       "      <td>0.0</td>\n",
       "      <td>1.0</td>\n",
       "      <td>0.0</td>\n",
       "      <td>0.0</td>\n",
       "      <td>0.0</td>\n",
       "      <td>0.0</td>\n",
       "      <td>0.0</td>\n",
       "      <td>NaN</td>\n",
       "      <td>1.0</td>\n",
       "      <td>...</td>\n",
       "      <td>White</td>\n",
       "      <td>Male</td>\n",
       "      <td>&lt;= $75,000, Above Poverty</td>\n",
       "      <td>Not Married</td>\n",
       "      <td>Own</td>\n",
       "      <td>Employed</td>\n",
       "      <td>MSA, Not Principle  City</td>\n",
       "      <td>2.0</td>\n",
       "      <td>0.0</td>\n",
       "      <td>0</td>\n",
       "    </tr>\n",
       "    <tr>\n",
       "      <th>3</th>\n",
       "      <td>3</td>\n",
       "      <td>0.0</td>\n",
       "      <td>1.0</td>\n",
       "      <td>0.0</td>\n",
       "      <td>1.0</td>\n",
       "      <td>1.0</td>\n",
       "      <td>0.0</td>\n",
       "      <td>0.0</td>\n",
       "      <td>1.0</td>\n",
       "      <td>1.0</td>\n",
       "      <td>...</td>\n",
       "      <td>White</td>\n",
       "      <td>Female</td>\n",
       "      <td>Below Poverty</td>\n",
       "      <td>Not Married</td>\n",
       "      <td>Rent</td>\n",
       "      <td>Not in Labor Force</td>\n",
       "      <td>MSA, Principle City</td>\n",
       "      <td>0.0</td>\n",
       "      <td>0.0</td>\n",
       "      <td>1</td>\n",
       "    </tr>\n",
       "    <tr>\n",
       "      <th>4</th>\n",
       "      <td>4</td>\n",
       "      <td>0.0</td>\n",
       "      <td>1.0</td>\n",
       "      <td>0.0</td>\n",
       "      <td>1.0</td>\n",
       "      <td>1.0</td>\n",
       "      <td>0.0</td>\n",
       "      <td>1.0</td>\n",
       "      <td>0.0</td>\n",
       "      <td>0.0</td>\n",
       "      <td>...</td>\n",
       "      <td>White</td>\n",
       "      <td>Female</td>\n",
       "      <td>&lt;= $75,000, Above Poverty</td>\n",
       "      <td>Married</td>\n",
       "      <td>Own</td>\n",
       "      <td>Employed</td>\n",
       "      <td>MSA, Not Principle  City</td>\n",
       "      <td>1.0</td>\n",
       "      <td>0.0</td>\n",
       "      <td>0</td>\n",
       "    </tr>\n",
       "    <tr>\n",
       "      <th>...</th>\n",
       "      <td>...</td>\n",
       "      <td>...</td>\n",
       "      <td>...</td>\n",
       "      <td>...</td>\n",
       "      <td>...</td>\n",
       "      <td>...</td>\n",
       "      <td>...</td>\n",
       "      <td>...</td>\n",
       "      <td>...</td>\n",
       "      <td>...</td>\n",
       "      <td>...</td>\n",
       "      <td>...</td>\n",
       "      <td>...</td>\n",
       "      <td>...</td>\n",
       "      <td>...</td>\n",
       "      <td>...</td>\n",
       "      <td>...</td>\n",
       "      <td>...</td>\n",
       "      <td>...</td>\n",
       "      <td>...</td>\n",
       "      <td>...</td>\n",
       "    </tr>\n",
       "    <tr>\n",
       "      <th>26702</th>\n",
       "      <td>26702</td>\n",
       "      <td>0.0</td>\n",
       "      <td>1.0</td>\n",
       "      <td>0.0</td>\n",
       "      <td>0.0</td>\n",
       "      <td>0.0</td>\n",
       "      <td>1.0</td>\n",
       "      <td>0.0</td>\n",
       "      <td>0.0</td>\n",
       "      <td>0.0</td>\n",
       "      <td>...</td>\n",
       "      <td>White</td>\n",
       "      <td>Female</td>\n",
       "      <td>&lt;= $75,000, Above Poverty</td>\n",
       "      <td>Not Married</td>\n",
       "      <td>Own</td>\n",
       "      <td>Not in Labor Force</td>\n",
       "      <td>Non-MSA</td>\n",
       "      <td>0.0</td>\n",
       "      <td>0.0</td>\n",
       "      <td>0</td>\n",
       "    </tr>\n",
       "    <tr>\n",
       "      <th>26703</th>\n",
       "      <td>26703</td>\n",
       "      <td>0.0</td>\n",
       "      <td>1.0</td>\n",
       "      <td>0.0</td>\n",
       "      <td>1.0</td>\n",
       "      <td>0.0</td>\n",
       "      <td>0.0</td>\n",
       "      <td>0.0</td>\n",
       "      <td>1.0</td>\n",
       "      <td>0.0</td>\n",
       "      <td>...</td>\n",
       "      <td>White</td>\n",
       "      <td>Male</td>\n",
       "      <td>&lt;= $75,000, Above Poverty</td>\n",
       "      <td>Not Married</td>\n",
       "      <td>Rent</td>\n",
       "      <td>Employed</td>\n",
       "      <td>MSA, Principle City</td>\n",
       "      <td>1.0</td>\n",
       "      <td>0.0</td>\n",
       "      <td>0</td>\n",
       "    </tr>\n",
       "    <tr>\n",
       "      <th>26704</th>\n",
       "      <td>26704</td>\n",
       "      <td>0.0</td>\n",
       "      <td>1.0</td>\n",
       "      <td>1.0</td>\n",
       "      <td>1.0</td>\n",
       "      <td>1.0</td>\n",
       "      <td>0.0</td>\n",
       "      <td>1.0</td>\n",
       "      <td>0.0</td>\n",
       "      <td>0.0</td>\n",
       "      <td>...</td>\n",
       "      <td>White</td>\n",
       "      <td>Female</td>\n",
       "      <td>NaN</td>\n",
       "      <td>Not Married</td>\n",
       "      <td>Own</td>\n",
       "      <td>NaN</td>\n",
       "      <td>MSA, Not Principle  City</td>\n",
       "      <td>0.0</td>\n",
       "      <td>0.0</td>\n",
       "      <td>1</td>\n",
       "    </tr>\n",
       "    <tr>\n",
       "      <th>26705</th>\n",
       "      <td>26705</td>\n",
       "      <td>0.0</td>\n",
       "      <td>0.0</td>\n",
       "      <td>0.0</td>\n",
       "      <td>0.0</td>\n",
       "      <td>0.0</td>\n",
       "      <td>0.0</td>\n",
       "      <td>NaN</td>\n",
       "      <td>0.0</td>\n",
       "      <td>0.0</td>\n",
       "      <td>...</td>\n",
       "      <td>Hispanic</td>\n",
       "      <td>Female</td>\n",
       "      <td>&lt;= $75,000, Above Poverty</td>\n",
       "      <td>Married</td>\n",
       "      <td>Rent</td>\n",
       "      <td>Employed</td>\n",
       "      <td>Non-MSA</td>\n",
       "      <td>1.0</td>\n",
       "      <td>0.0</td>\n",
       "      <td>0</td>\n",
       "    </tr>\n",
       "    <tr>\n",
       "      <th>26706</th>\n",
       "      <td>26706</td>\n",
       "      <td>0.0</td>\n",
       "      <td>1.0</td>\n",
       "      <td>0.0</td>\n",
       "      <td>0.0</td>\n",
       "      <td>0.0</td>\n",
       "      <td>0.0</td>\n",
       "      <td>0.0</td>\n",
       "      <td>0.0</td>\n",
       "      <td>0.0</td>\n",
       "      <td>...</td>\n",
       "      <td>White</td>\n",
       "      <td>Male</td>\n",
       "      <td>&lt;= $75,000, Above Poverty</td>\n",
       "      <td>Married</td>\n",
       "      <td>Own</td>\n",
       "      <td>Not in Labor Force</td>\n",
       "      <td>MSA, Principle City</td>\n",
       "      <td>1.0</td>\n",
       "      <td>0.0</td>\n",
       "      <td>0</td>\n",
       "    </tr>\n",
       "  </tbody>\n",
       "</table>\n",
       "<p>26707 rows × 28 columns</p>\n",
       "</div>"
      ],
      "text/plain": [
       "       respondent_id  behavioral_antiviral_meds  behavioral_avoidance  \\\n",
       "0                  0                        0.0                   0.0   \n",
       "1                  1                        0.0                   1.0   \n",
       "2                  2                        0.0                   1.0   \n",
       "3                  3                        0.0                   1.0   \n",
       "4                  4                        0.0                   1.0   \n",
       "...              ...                        ...                   ...   \n",
       "26702          26702                        0.0                   1.0   \n",
       "26703          26703                        0.0                   1.0   \n",
       "26704          26704                        0.0                   1.0   \n",
       "26705          26705                        0.0                   0.0   \n",
       "26706          26706                        0.0                   1.0   \n",
       "\n",
       "       behavioral_face_mask  behavioral_wash_hands  \\\n",
       "0                       0.0                    0.0   \n",
       "1                       0.0                    1.0   \n",
       "2                       0.0                    0.0   \n",
       "3                       0.0                    1.0   \n",
       "4                       0.0                    1.0   \n",
       "...                     ...                    ...   \n",
       "26702                   0.0                    0.0   \n",
       "26703                   0.0                    1.0   \n",
       "26704                   1.0                    1.0   \n",
       "26705                   0.0                    0.0   \n",
       "26706                   0.0                    0.0   \n",
       "\n",
       "       behavioral_large_gatherings  behavioral_outside_home  \\\n",
       "0                              0.0                      1.0   \n",
       "1                              0.0                      1.0   \n",
       "2                              0.0                      0.0   \n",
       "3                              1.0                      0.0   \n",
       "4                              1.0                      0.0   \n",
       "...                            ...                      ...   \n",
       "26702                          0.0                      1.0   \n",
       "26703                          0.0                      0.0   \n",
       "26704                          1.0                      0.0   \n",
       "26705                          0.0                      0.0   \n",
       "26706                          0.0                      0.0   \n",
       "\n",
       "       behavioral_touch_face  doctor_recc_seasonal  chronic_med_condition  \\\n",
       "0                        1.0                   0.0                    0.0   \n",
       "1                        1.0                   0.0                    0.0   \n",
       "2                        0.0                   NaN                    1.0   \n",
       "3                        0.0                   1.0                    1.0   \n",
       "4                        1.0                   0.0                    0.0   \n",
       "...                      ...                   ...                    ...   \n",
       "26702                    0.0                   0.0                    0.0   \n",
       "26703                    0.0                   1.0                    0.0   \n",
       "26704                    1.0                   0.0                    0.0   \n",
       "26705                    NaN                   0.0                    0.0   \n",
       "26706                    0.0                   0.0                    0.0   \n",
       "\n",
       "       ...      race     sex             income_poverty  marital_status  \\\n",
       "0      ...     White  Female              Below Poverty     Not Married   \n",
       "1      ...     White    Male              Below Poverty     Not Married   \n",
       "2      ...     White    Male  <= $75,000, Above Poverty     Not Married   \n",
       "3      ...     White  Female              Below Poverty     Not Married   \n",
       "4      ...     White  Female  <= $75,000, Above Poverty         Married   \n",
       "...    ...       ...     ...                        ...             ...   \n",
       "26702  ...     White  Female  <= $75,000, Above Poverty     Not Married   \n",
       "26703  ...     White    Male  <= $75,000, Above Poverty     Not Married   \n",
       "26704  ...     White  Female                        NaN     Not Married   \n",
       "26705  ...  Hispanic  Female  <= $75,000, Above Poverty         Married   \n",
       "26706  ...     White    Male  <= $75,000, Above Poverty         Married   \n",
       "\n",
       "       rent_or_own   employment_status                census_msa  \\\n",
       "0              Own  Not in Labor Force                   Non-MSA   \n",
       "1             Rent            Employed  MSA, Not Principle  City   \n",
       "2              Own            Employed  MSA, Not Principle  City   \n",
       "3             Rent  Not in Labor Force       MSA, Principle City   \n",
       "4              Own            Employed  MSA, Not Principle  City   \n",
       "...            ...                 ...                       ...   \n",
       "26702          Own  Not in Labor Force                   Non-MSA   \n",
       "26703         Rent            Employed       MSA, Principle City   \n",
       "26704          Own                 NaN  MSA, Not Principle  City   \n",
       "26705         Rent            Employed                   Non-MSA   \n",
       "26706          Own  Not in Labor Force       MSA, Principle City   \n",
       "\n",
       "      household_adults household_children seasonal_vaccine  \n",
       "0                  0.0                0.0                0  \n",
       "1                  0.0                0.0                1  \n",
       "2                  2.0                0.0                0  \n",
       "3                  0.0                0.0                1  \n",
       "4                  1.0                0.0                0  \n",
       "...                ...                ...              ...  \n",
       "26702              0.0                0.0                0  \n",
       "26703              1.0                0.0                0  \n",
       "26704              0.0                0.0                1  \n",
       "26705              1.0                0.0                0  \n",
       "26706              1.0                0.0                0  \n",
       "\n",
       "[26707 rows x 28 columns]"
      ]
     },
     "execution_count": 14,
     "metadata": {},
     "output_type": "execute_result"
    }
   ],
   "source": [
    "# Join flu_features and df_seasonal_labels on respondent_Id\n",
    "joined_df = flu_features.merge(df_seasonal_labels, on='respondent_id')\n",
    "joined_df"
   ]
  },
  {
   "cell_type": "markdown",
   "metadata": {},
   "source": [
    "### Train-Test Split"
   ]
  },
  {
   "cell_type": "markdown",
   "metadata": {},
   "source": [
    "Now that we have a new dataframe I will perform a train-test split. We will do this before any log transformations on the data due to data leakage and overfitting.  I will use the training set to train a machine learning model, and then use the test set to evaluate the model's performance on unseen data. "
   ]
  },
  {
   "cell_type": "code",
   "execution_count": 15,
   "metadata": {},
   "outputs": [],
   "source": [
    "# Define features and target\n",
    "X = joined_df[['respondent_id', 'health_insurance', 'income_poverty', 'marital_status', 'rent_or_own', \n",
    "               'employment_status', 'census_msa','behavioral_antiviral_meds', 'behavioral_avoidance', \n",
    "               'behavioral_face_mask', 'behavioral_wash_hands', 'behavioral_large_gatherings', 'behavioral_outside_home', \n",
    "               'behavioral_touch_face', 'doctor_recc_seasonal', 'chronic_med_condition', 'child_under_6_months', 'health_worker', 'opinion_seas_vacc_effective', 'opinion_seas_risk', 'opinion_seas_sick_from_vacc', 'age_group', 'education', 'race', 'sex', 'household_adults', 'household_children']]\n",
    "y = joined_df['seasonal_vaccine']\n",
    "\n",
    "# Split the dataset into training and testing sets\n",
    "X_train, X_test, y_train, y_test = train_test_split(X, y, test_size=0.3, random_state=42)"
   ]
  },
  {
   "cell_type": "code",
   "execution_count": 16,
   "metadata": {
    "scrolled": true
   },
   "outputs": [
    {
     "data": {
      "text/html": [
       "<div>\n",
       "<style scoped>\n",
       "    .dataframe tbody tr th:only-of-type {\n",
       "        vertical-align: middle;\n",
       "    }\n",
       "\n",
       "    .dataframe tbody tr th {\n",
       "        vertical-align: top;\n",
       "    }\n",
       "\n",
       "    .dataframe thead th {\n",
       "        text-align: right;\n",
       "    }\n",
       "</style>\n",
       "<table border=\"1\" class=\"dataframe\">\n",
       "  <thead>\n",
       "    <tr style=\"text-align: right;\">\n",
       "      <th></th>\n",
       "      <th>respondent_id</th>\n",
       "      <th>health_insurance</th>\n",
       "      <th>income_poverty</th>\n",
       "      <th>marital_status</th>\n",
       "      <th>rent_or_own</th>\n",
       "      <th>employment_status</th>\n",
       "      <th>census_msa</th>\n",
       "      <th>behavioral_antiviral_meds</th>\n",
       "      <th>behavioral_avoidance</th>\n",
       "      <th>behavioral_face_mask</th>\n",
       "      <th>...</th>\n",
       "      <th>health_worker</th>\n",
       "      <th>opinion_seas_vacc_effective</th>\n",
       "      <th>opinion_seas_risk</th>\n",
       "      <th>opinion_seas_sick_from_vacc</th>\n",
       "      <th>age_group</th>\n",
       "      <th>education</th>\n",
       "      <th>race</th>\n",
       "      <th>sex</th>\n",
       "      <th>household_adults</th>\n",
       "      <th>household_children</th>\n",
       "    </tr>\n",
       "  </thead>\n",
       "  <tbody>\n",
       "    <tr>\n",
       "      <th>5303</th>\n",
       "      <td>5303</td>\n",
       "      <td>NaN</td>\n",
       "      <td>&gt; $75,000</td>\n",
       "      <td>Married</td>\n",
       "      <td>Own</td>\n",
       "      <td>Not in Labor Force</td>\n",
       "      <td>MSA, Principle City</td>\n",
       "      <td>0.0</td>\n",
       "      <td>0.0</td>\n",
       "      <td>0.0</td>\n",
       "      <td>...</td>\n",
       "      <td>0.0</td>\n",
       "      <td>5.0</td>\n",
       "      <td>2.0</td>\n",
       "      <td>2.0</td>\n",
       "      <td>65+ Years</td>\n",
       "      <td>College Graduate</td>\n",
       "      <td>White</td>\n",
       "      <td>Male</td>\n",
       "      <td>1.0</td>\n",
       "      <td>0.0</td>\n",
       "    </tr>\n",
       "    <tr>\n",
       "      <th>2703</th>\n",
       "      <td>2703</td>\n",
       "      <td>0.0</td>\n",
       "      <td>Below Poverty</td>\n",
       "      <td>Not Married</td>\n",
       "      <td>Rent</td>\n",
       "      <td>Employed</td>\n",
       "      <td>MSA, Principle City</td>\n",
       "      <td>0.0</td>\n",
       "      <td>1.0</td>\n",
       "      <td>0.0</td>\n",
       "      <td>...</td>\n",
       "      <td>0.0</td>\n",
       "      <td>2.0</td>\n",
       "      <td>5.0</td>\n",
       "      <td>1.0</td>\n",
       "      <td>18 - 34 Years</td>\n",
       "      <td>12 Years</td>\n",
       "      <td>Hispanic</td>\n",
       "      <td>Male</td>\n",
       "      <td>1.0</td>\n",
       "      <td>0.0</td>\n",
       "    </tr>\n",
       "    <tr>\n",
       "      <th>6586</th>\n",
       "      <td>6586</td>\n",
       "      <td>1.0</td>\n",
       "      <td>&gt; $75,000</td>\n",
       "      <td>Not Married</td>\n",
       "      <td>Rent</td>\n",
       "      <td>Employed</td>\n",
       "      <td>MSA, Not Principle  City</td>\n",
       "      <td>0.0</td>\n",
       "      <td>1.0</td>\n",
       "      <td>0.0</td>\n",
       "      <td>...</td>\n",
       "      <td>1.0</td>\n",
       "      <td>5.0</td>\n",
       "      <td>4.0</td>\n",
       "      <td>5.0</td>\n",
       "      <td>45 - 54 Years</td>\n",
       "      <td>College Graduate</td>\n",
       "      <td>White</td>\n",
       "      <td>Female</td>\n",
       "      <td>2.0</td>\n",
       "      <td>0.0</td>\n",
       "    </tr>\n",
       "    <tr>\n",
       "      <th>22563</th>\n",
       "      <td>22563</td>\n",
       "      <td>1.0</td>\n",
       "      <td>&gt; $75,000</td>\n",
       "      <td>Married</td>\n",
       "      <td>Own</td>\n",
       "      <td>Employed</td>\n",
       "      <td>MSA, Principle City</td>\n",
       "      <td>0.0</td>\n",
       "      <td>0.0</td>\n",
       "      <td>0.0</td>\n",
       "      <td>...</td>\n",
       "      <td>1.0</td>\n",
       "      <td>5.0</td>\n",
       "      <td>2.0</td>\n",
       "      <td>4.0</td>\n",
       "      <td>18 - 34 Years</td>\n",
       "      <td>College Graduate</td>\n",
       "      <td>White</td>\n",
       "      <td>Male</td>\n",
       "      <td>1.0</td>\n",
       "      <td>2.0</td>\n",
       "    </tr>\n",
       "    <tr>\n",
       "      <th>2338</th>\n",
       "      <td>2338</td>\n",
       "      <td>1.0</td>\n",
       "      <td>&lt;= $75,000, Above Poverty</td>\n",
       "      <td>Not Married</td>\n",
       "      <td>Own</td>\n",
       "      <td>Not in Labor Force</td>\n",
       "      <td>MSA, Not Principle  City</td>\n",
       "      <td>0.0</td>\n",
       "      <td>1.0</td>\n",
       "      <td>0.0</td>\n",
       "      <td>...</td>\n",
       "      <td>0.0</td>\n",
       "      <td>5.0</td>\n",
       "      <td>4.0</td>\n",
       "      <td>1.0</td>\n",
       "      <td>65+ Years</td>\n",
       "      <td>College Graduate</td>\n",
       "      <td>White</td>\n",
       "      <td>Male</td>\n",
       "      <td>0.0</td>\n",
       "      <td>0.0</td>\n",
       "    </tr>\n",
       "  </tbody>\n",
       "</table>\n",
       "<p>5 rows × 27 columns</p>\n",
       "</div>"
      ],
      "text/plain": [
       "       respondent_id  health_insurance             income_poverty  \\\n",
       "5303            5303               NaN                  > $75,000   \n",
       "2703            2703               0.0              Below Poverty   \n",
       "6586            6586               1.0                  > $75,000   \n",
       "22563          22563               1.0                  > $75,000   \n",
       "2338            2338               1.0  <= $75,000, Above Poverty   \n",
       "\n",
       "      marital_status rent_or_own   employment_status  \\\n",
       "5303         Married         Own  Not in Labor Force   \n",
       "2703     Not Married        Rent            Employed   \n",
       "6586     Not Married        Rent            Employed   \n",
       "22563        Married         Own            Employed   \n",
       "2338     Not Married         Own  Not in Labor Force   \n",
       "\n",
       "                     census_msa  behavioral_antiviral_meds  \\\n",
       "5303        MSA, Principle City                        0.0   \n",
       "2703        MSA, Principle City                        0.0   \n",
       "6586   MSA, Not Principle  City                        0.0   \n",
       "22563       MSA, Principle City                        0.0   \n",
       "2338   MSA, Not Principle  City                        0.0   \n",
       "\n",
       "       behavioral_avoidance  behavioral_face_mask  ...  health_worker  \\\n",
       "5303                    0.0                   0.0  ...            0.0   \n",
       "2703                    1.0                   0.0  ...            0.0   \n",
       "6586                    1.0                   0.0  ...            1.0   \n",
       "22563                   0.0                   0.0  ...            1.0   \n",
       "2338                    1.0                   0.0  ...            0.0   \n",
       "\n",
       "       opinion_seas_vacc_effective  opinion_seas_risk  \\\n",
       "5303                           5.0                2.0   \n",
       "2703                           2.0                5.0   \n",
       "6586                           5.0                4.0   \n",
       "22563                          5.0                2.0   \n",
       "2338                           5.0                4.0   \n",
       "\n",
       "       opinion_seas_sick_from_vacc      age_group         education      race  \\\n",
       "5303                           2.0      65+ Years  College Graduate     White   \n",
       "2703                           1.0  18 - 34 Years          12 Years  Hispanic   \n",
       "6586                           5.0  45 - 54 Years  College Graduate     White   \n",
       "22563                          4.0  18 - 34 Years  College Graduate     White   \n",
       "2338                           1.0      65+ Years  College Graduate     White   \n",
       "\n",
       "          sex  household_adults  household_children  \n",
       "5303     Male               1.0                 0.0  \n",
       "2703     Male               1.0                 0.0  \n",
       "6586   Female               2.0                 0.0  \n",
       "22563    Male               1.0                 2.0  \n",
       "2338     Male               0.0                 0.0  \n",
       "\n",
       "[5 rows x 27 columns]"
      ]
     },
     "metadata": {},
     "output_type": "display_data"
    },
    {
     "data": {
      "text/html": [
       "<div>\n",
       "<style scoped>\n",
       "    .dataframe tbody tr th:only-of-type {\n",
       "        vertical-align: middle;\n",
       "    }\n",
       "\n",
       "    .dataframe tbody tr th {\n",
       "        vertical-align: top;\n",
       "    }\n",
       "\n",
       "    .dataframe thead th {\n",
       "        text-align: right;\n",
       "    }\n",
       "</style>\n",
       "<table border=\"1\" class=\"dataframe\">\n",
       "  <thead>\n",
       "    <tr style=\"text-align: right;\">\n",
       "      <th></th>\n",
       "      <th>respondent_id</th>\n",
       "      <th>health_insurance</th>\n",
       "      <th>income_poverty</th>\n",
       "      <th>marital_status</th>\n",
       "      <th>rent_or_own</th>\n",
       "      <th>employment_status</th>\n",
       "      <th>census_msa</th>\n",
       "      <th>behavioral_antiviral_meds</th>\n",
       "      <th>behavioral_avoidance</th>\n",
       "      <th>behavioral_face_mask</th>\n",
       "      <th>...</th>\n",
       "      <th>health_worker</th>\n",
       "      <th>opinion_seas_vacc_effective</th>\n",
       "      <th>opinion_seas_risk</th>\n",
       "      <th>opinion_seas_sick_from_vacc</th>\n",
       "      <th>age_group</th>\n",
       "      <th>education</th>\n",
       "      <th>race</th>\n",
       "      <th>sex</th>\n",
       "      <th>household_adults</th>\n",
       "      <th>household_children</th>\n",
       "    </tr>\n",
       "  </thead>\n",
       "  <tbody>\n",
       "    <tr>\n",
       "      <th>15772</th>\n",
       "      <td>15772</td>\n",
       "      <td>NaN</td>\n",
       "      <td>NaN</td>\n",
       "      <td>NaN</td>\n",
       "      <td>NaN</td>\n",
       "      <td>NaN</td>\n",
       "      <td>MSA, Principle City</td>\n",
       "      <td>0.0</td>\n",
       "      <td>1.0</td>\n",
       "      <td>1.0</td>\n",
       "      <td>...</td>\n",
       "      <td>NaN</td>\n",
       "      <td>NaN</td>\n",
       "      <td>NaN</td>\n",
       "      <td>NaN</td>\n",
       "      <td>18 - 34 Years</td>\n",
       "      <td>NaN</td>\n",
       "      <td>White</td>\n",
       "      <td>Female</td>\n",
       "      <td>NaN</td>\n",
       "      <td>NaN</td>\n",
       "    </tr>\n",
       "    <tr>\n",
       "      <th>9407</th>\n",
       "      <td>9407</td>\n",
       "      <td>NaN</td>\n",
       "      <td>NaN</td>\n",
       "      <td>NaN</td>\n",
       "      <td>NaN</td>\n",
       "      <td>NaN</td>\n",
       "      <td>MSA, Principle City</td>\n",
       "      <td>0.0</td>\n",
       "      <td>1.0</td>\n",
       "      <td>1.0</td>\n",
       "      <td>...</td>\n",
       "      <td>NaN</td>\n",
       "      <td>NaN</td>\n",
       "      <td>NaN</td>\n",
       "      <td>NaN</td>\n",
       "      <td>35 - 44 Years</td>\n",
       "      <td>NaN</td>\n",
       "      <td>White</td>\n",
       "      <td>Male</td>\n",
       "      <td>1.0</td>\n",
       "      <td>1.0</td>\n",
       "    </tr>\n",
       "    <tr>\n",
       "      <th>16515</th>\n",
       "      <td>16515</td>\n",
       "      <td>1.0</td>\n",
       "      <td>NaN</td>\n",
       "      <td>Not Married</td>\n",
       "      <td>Own</td>\n",
       "      <td>Employed</td>\n",
       "      <td>MSA, Not Principle  City</td>\n",
       "      <td>0.0</td>\n",
       "      <td>1.0</td>\n",
       "      <td>0.0</td>\n",
       "      <td>...</td>\n",
       "      <td>0.0</td>\n",
       "      <td>4.0</td>\n",
       "      <td>4.0</td>\n",
       "      <td>1.0</td>\n",
       "      <td>45 - 54 Years</td>\n",
       "      <td>College Graduate</td>\n",
       "      <td>White</td>\n",
       "      <td>Female</td>\n",
       "      <td>0.0</td>\n",
       "      <td>1.0</td>\n",
       "    </tr>\n",
       "    <tr>\n",
       "      <th>23353</th>\n",
       "      <td>23353</td>\n",
       "      <td>1.0</td>\n",
       "      <td>&gt; $75,000</td>\n",
       "      <td>Married</td>\n",
       "      <td>Own</td>\n",
       "      <td>Employed</td>\n",
       "      <td>Non-MSA</td>\n",
       "      <td>0.0</td>\n",
       "      <td>1.0</td>\n",
       "      <td>0.0</td>\n",
       "      <td>...</td>\n",
       "      <td>0.0</td>\n",
       "      <td>4.0</td>\n",
       "      <td>2.0</td>\n",
       "      <td>1.0</td>\n",
       "      <td>35 - 44 Years</td>\n",
       "      <td>College Graduate</td>\n",
       "      <td>White</td>\n",
       "      <td>Female</td>\n",
       "      <td>1.0</td>\n",
       "      <td>2.0</td>\n",
       "    </tr>\n",
       "    <tr>\n",
       "      <th>10008</th>\n",
       "      <td>10008</td>\n",
       "      <td>NaN</td>\n",
       "      <td>&gt; $75,000</td>\n",
       "      <td>Married</td>\n",
       "      <td>Own</td>\n",
       "      <td>Employed</td>\n",
       "      <td>MSA, Principle City</td>\n",
       "      <td>0.0</td>\n",
       "      <td>1.0</td>\n",
       "      <td>0.0</td>\n",
       "      <td>...</td>\n",
       "      <td>0.0</td>\n",
       "      <td>4.0</td>\n",
       "      <td>1.0</td>\n",
       "      <td>2.0</td>\n",
       "      <td>55 - 64 Years</td>\n",
       "      <td>College Graduate</td>\n",
       "      <td>White</td>\n",
       "      <td>Male</td>\n",
       "      <td>1.0</td>\n",
       "      <td>0.0</td>\n",
       "    </tr>\n",
       "  </tbody>\n",
       "</table>\n",
       "<p>5 rows × 27 columns</p>\n",
       "</div>"
      ],
      "text/plain": [
       "       respondent_id  health_insurance income_poverty marital_status  \\\n",
       "15772          15772               NaN            NaN            NaN   \n",
       "9407            9407               NaN            NaN            NaN   \n",
       "16515          16515               1.0            NaN    Not Married   \n",
       "23353          23353               1.0      > $75,000        Married   \n",
       "10008          10008               NaN      > $75,000        Married   \n",
       "\n",
       "      rent_or_own employment_status                census_msa  \\\n",
       "15772         NaN               NaN       MSA, Principle City   \n",
       "9407          NaN               NaN       MSA, Principle City   \n",
       "16515         Own          Employed  MSA, Not Principle  City   \n",
       "23353         Own          Employed                   Non-MSA   \n",
       "10008         Own          Employed       MSA, Principle City   \n",
       "\n",
       "       behavioral_antiviral_meds  behavioral_avoidance  behavioral_face_mask  \\\n",
       "15772                        0.0                   1.0                   1.0   \n",
       "9407                         0.0                   1.0                   1.0   \n",
       "16515                        0.0                   1.0                   0.0   \n",
       "23353                        0.0                   1.0                   0.0   \n",
       "10008                        0.0                   1.0                   0.0   \n",
       "\n",
       "       ...  health_worker  opinion_seas_vacc_effective  opinion_seas_risk  \\\n",
       "15772  ...            NaN                          NaN                NaN   \n",
       "9407   ...            NaN                          NaN                NaN   \n",
       "16515  ...            0.0                          4.0                4.0   \n",
       "23353  ...            0.0                          4.0                2.0   \n",
       "10008  ...            0.0                          4.0                1.0   \n",
       "\n",
       "       opinion_seas_sick_from_vacc      age_group         education   race  \\\n",
       "15772                          NaN  18 - 34 Years               NaN  White   \n",
       "9407                           NaN  35 - 44 Years               NaN  White   \n",
       "16515                          1.0  45 - 54 Years  College Graduate  White   \n",
       "23353                          1.0  35 - 44 Years  College Graduate  White   \n",
       "10008                          2.0  55 - 64 Years  College Graduate  White   \n",
       "\n",
       "          sex  household_adults  household_children  \n",
       "15772  Female               NaN                 NaN  \n",
       "9407     Male               1.0                 1.0  \n",
       "16515  Female               0.0                 1.0  \n",
       "23353  Female               1.0                 2.0  \n",
       "10008    Male               1.0                 0.0  \n",
       "\n",
       "[5 rows x 27 columns]"
      ]
     },
     "metadata": {},
     "output_type": "display_data"
    }
   ],
   "source": [
    "display(X_train.head())\n",
    "display(X_test.head())"
   ]
  },
  {
   "cell_type": "markdown",
   "metadata": {},
   "source": [
    "Great! I want to check the shapes of the training and testing datasets, as well as check that the number of rows in the X and y datasets match. "
   ]
  },
  {
   "cell_type": "code",
   "execution_count": 17,
   "metadata": {},
   "outputs": [
    {
     "name": "stdout",
     "output_type": "stream",
     "text": [
      "(18694, 27)\n",
      "(8013, 27)\n",
      "True\n",
      "True\n"
     ]
    }
   ],
   "source": [
    "print(X_train.shape)\n",
    "print(X_test.shape)\n",
    "# Check to see number of rows in X_train matches rows in target dataset \n",
    "print(X_train.shape[0] == y_train.shape[0])\n",
    "# Check to see number of rows in testing feature dataset matches number of rows in testing target dataset\n",
    "print(X_test.shape[0] == y_test.shape[0])"
   ]
  },
  {
   "cell_type": "markdown",
   "metadata": {},
   "source": [
    "### Missing Values"
   ]
  },
  {
   "cell_type": "markdown",
   "metadata": {},
   "source": [
    "I want to narrow down the features. To do that I will look at joined_df to see which columns have missing values. "
   ]
  },
  {
   "cell_type": "code",
   "execution_count": 18,
   "metadata": {},
   "outputs": [
    {
     "name": "stdout",
     "output_type": "stream",
     "text": [
      "respondent_id                      0\n",
      "behavioral_antiviral_meds         71\n",
      "behavioral_avoidance             208\n",
      "behavioral_face_mask              19\n",
      "behavioral_wash_hands             42\n",
      "behavioral_large_gatherings       87\n",
      "behavioral_outside_home           82\n",
      "behavioral_touch_face            128\n",
      "doctor_recc_seasonal            2160\n",
      "chronic_med_condition            971\n",
      "child_under_6_months             820\n",
      "health_worker                    804\n",
      "health_insurance               12274\n",
      "opinion_seas_vacc_effective      462\n",
      "opinion_seas_risk                514\n",
      "opinion_seas_sick_from_vacc      537\n",
      "age_group                          0\n",
      "education                       1407\n",
      "race                               0\n",
      "sex                                0\n",
      "income_poverty                  4423\n",
      "marital_status                  1408\n",
      "rent_or_own                     2042\n",
      "employment_status               1463\n",
      "census_msa                         0\n",
      "household_adults                 249\n",
      "household_children               249\n",
      "seasonal_vaccine                   0\n",
      "dtype: int64\n"
     ]
    }
   ],
   "source": [
    "# count the number of missing values in each column\n",
    "missing_counts = joined_df.isnull().sum()\n",
    "\n",
    "# print the result\n",
    "print(missing_counts)"
   ]
  },
  {
   "cell_type": "markdown",
   "metadata": {},
   "source": [
    "So the health insurance column has a lot of data missing, compared to other columns. Due to missing data, I want to see which variables in our training dataset are highly correlated to the seasonal_vaccine column. This will lead me to drop variables that have a low correlation. Variables that have a low correlation could simplify my modles and improve its performance by reducing noise and overfitting."
   ]
  },
  {
   "cell_type": "code",
   "execution_count": 19,
   "metadata": {},
   "outputs": [
    {
     "data": {
      "image/png": "[encoded data removed]",
      "text/plain": [
       "<Figure size 720x720 with 2 Axes>"
      ]
     },
     "metadata": {},
     "output_type": "display_data"
    }
   ],
   "source": [
    "# Perform correlation matrix on training datasets \n",
    "train_df = pd.concat([X_train, y_train], axis=1)\n",
    "correlation_matrix = train_df.corr()\n",
    "correlations = correlation_matrix['seasonal_vaccine'][:-1] # correlations of features with target variable\n",
    "\n",
    "sns.set(style=\"white\")\n",
    "\n",
    "# Generate a mask for the upper triangle\n",
    "mask = np.zeros_like(correlation_matrix, dtype=np.bool)\n",
    "mask[np.triu_indices_from(mask)] = True\n",
    "\n",
    "# Set up the matplotlib figure\n",
    "fig, ax = plt.subplots(figsize=(10, 10))\n",
    "\n",
    "# Generate a custom diverging colormap\n",
    "cmap = sns.diverging_palette(220, 10, as_cmap=True)\n",
    "\n",
    "# Draw the heatmap with the mask and correct aspect ratio\n",
    "sns.heatmap(correlation_matrix, mask=mask, cmap=cmap, vmax=.3, center=0,\n",
    "            square=True, linewidths=.5, cbar_kws={\"shrink\": .5}, annot=True)\n",
    "\n",
    "plt.title('Correlation Matrix Heatmap')\n",
    "plt.show()"
   ]
  },
  {
   "cell_type": "code",
   "execution_count": 20,
   "metadata": {
    "scrolled": true
   },
   "outputs": [
    {
     "data": {
      "image/png": "[encoded data removed]",
      "text/plain": [
       "<Figure size 720x576 with 1 Axes>"
      ]
     },
     "metadata": {},
     "output_type": "display_data"
    },
    {
     "name": "stdout",
     "output_type": "stream",
     "text": [
      "opinion_seas_risk              0.386967\n",
      "doctor_recc_seasonal           0.367714\n",
      "opinion_seas_vacc_effective    0.365070\n",
      "health_insurance               0.205263\n",
      "chronic_med_condition          0.160861\n",
      "behavioral_touch_face          0.121217\n",
      "health_worker                  0.119899\n",
      "behavioral_wash_hands          0.113515\n",
      "behavioral_avoidance           0.077690\n",
      "behavioral_large_gatherings    0.064255\n",
      "behavioral_outside_home        0.048267\n",
      "behavioral_face_mask           0.045819\n",
      "child_under_6_months           0.004088\n",
      "behavioral_antiviral_meds      0.003776\n",
      "respondent_id                 -0.007108\n",
      "household_adults              -0.062044\n",
      "opinion_seas_sick_from_vacc   -0.066431\n",
      "household_children            -0.116765\n",
      "Name: seasonal_vaccine, dtype: float64\n"
     ]
    }
   ],
   "source": [
    "# sort correlations in descending order\n",
    "sorted_correlations = correlations.sort_values(ascending=False)\n",
    "\n",
    "# plot bar chart\n",
    "plt.figure(figsize=(10, 8))\n",
    "plt.barh(sorted_correlations.index, sorted_correlations.values)\n",
    "plt.xlabel('Correlation coefficient')\n",
    "plt.ylabel('Feature')\n",
    "plt.title('Correlation of features with seasonal_vaccine')\n",
    "plt.show()\n",
    "\n",
    "print(sorted_correlations)"
   ]
  },
  {
   "cell_type": "markdown",
   "metadata": {},
   "source": [
    "In the training dataset, household_children, opinon_seas_sick_from_vacc and household_adults have negative correlations to the seasonal_vaccine. But I do want to include the number of children and adults in each household, so I will drop opinon_seas_sick_from_vacc column. I will also drop respondent_id, since we won't be using that in our model as well as census_msa, rent_or_own, marital_status and income_poverty. The columns will be dropped in our X_train, X_test, y_train and y_test data to ensure our model is trained and tested on the same features."
   ]
  },
  {
   "cell_type": "code",
   "execution_count": 21,
   "metadata": {
    "scrolled": true
   },
   "outputs": [],
   "source": [
    "# Create a list of columns to drop\n",
    "cols_to_drop = ['census_msa', 'rent_or_own', 'marital_status', 'income_poverty']\n",
    "\n",
    "# Drop the columns from the X_train and X_test DataFrames\n",
    "X_train = X_train.drop(cols_to_drop, axis=1)\n",
    "X_test = X_test.drop(cols_to_drop, axis=1)"
   ]
  },
  {
   "cell_type": "markdown",
   "metadata": {},
   "source": [
    "Let's check the shapes of the training and testing datasets, as well as check that the number of rows in the X_train and X_test datasets match."
   ]
  },
  {
   "cell_type": "code",
   "execution_count": 22,
   "metadata": {},
   "outputs": [
    {
     "name": "stdout",
     "output_type": "stream",
     "text": [
      "(18694, 23)\n",
      "(8013, 23)\n",
      "True\n",
      "True\n"
     ]
    }
   ],
   "source": [
    "print(X_train.shape)\n",
    "print(X_test.shape)\n",
    "# Check to see number of rows in X_train matches rows in target dataset \n",
    "print(X_train.shape[0] == y_train.shape[0])\n",
    "# Check to see number of rows in testing feature dataset matches number of rows in testing target dataset\n",
    "print(X_test.shape[0] == y_test.shape[0])"
   ]
  },
  {
   "cell_type": "markdown",
   "metadata": {},
   "source": [
    "### Imputation Method"
   ]
  },
  {
   "cell_type": "markdown",
   "metadata": {},
   "source": [
    "There are NaN values present in the dataset. This means we have missing data in our columns. I could either drop the column or replace them with 0. Let's take a look at our missing values."
   ]
  },
  {
   "cell_type": "code",
   "execution_count": 23,
   "metadata": {},
   "outputs": [
    {
     "name": "stdout",
     "output_type": "stream",
     "text": [
      "respondent_id                     0\n",
      "health_insurance               8651\n",
      "employment_status              1005\n",
      "behavioral_antiviral_meds        50\n",
      "behavioral_avoidance            150\n",
      "behavioral_face_mask             14\n",
      "behavioral_wash_hands            34\n",
      "behavioral_large_gatherings      65\n",
      "behavioral_outside_home          55\n",
      "behavioral_touch_face            86\n",
      "doctor_recc_seasonal           1532\n",
      "chronic_med_condition           667\n",
      "child_under_6_months            561\n",
      "health_worker                   554\n",
      "opinion_seas_vacc_effective     321\n",
      "opinion_seas_risk               355\n",
      "opinion_seas_sick_from_vacc     377\n",
      "age_group                         0\n",
      "education                       970\n",
      "race                              0\n",
      "sex                               0\n",
      "household_adults                179\n",
      "household_children              179\n",
      "dtype: int64\n"
     ]
    }
   ],
   "source": [
    "# count the number of missing values in each column\n",
    "missing_counts = X_train.isnull().sum()\n",
    "\n",
    "# print the result\n",
    "print(missing_counts)"
   ]
  },
  {
   "cell_type": "markdown",
   "metadata": {},
   "source": [
    "Health_insurance has the most missing values, the question is why. This data is from the National 2009 H1N1 Flu Survey. In 2009, there was a swine flu pandemic caused by H1N1, swine flu and influenza. The <a href=\"https://www.cdc.gov/flu/pastseasons/0910season.htm\">  CDC reported it more severe for those younger than 65 years of age.</a> Those who did not have health insurance was still able to get the flu shot. So, I will replace the NaN's in the health_insurance column with 0. Since I already did the test-train split, I will focus on the x_train and x_test data."
   ]
  },
  {
   "cell_type": "markdown",
   "metadata": {},
   "source": [
    "### Simple Imputer"
   ]
  },
  {
   "cell_type": "markdown",
   "metadata": {},
   "source": [
    "To handle missing values in the health_insurance dataset, I will use a simpleimputer. For all binary columns, I will replace the missing values with 0, since the dataset has alreayd identified binary values as 0 = No and 1 = yes."
   ]
  },
  {
   "cell_type": "code",
   "execution_count": 24,
   "metadata": {},
   "outputs": [],
   "source": [
    "cols_to_impute = ['behavioral_antiviral_meds', 'behavioral_avoidance', 'behavioral_face_mask', 'behavioral_wash_hands', \n",
    "                  'behavioral_large_gatherings', 'behavioral_outside_home', 'behavioral_touch_face', 'doctor_recc_seasonal', \n",
    "                  'chronic_med_condition', 'child_under_6_months', 'health_worker', 'health_insurance','age_group', \n",
    "                  'education', 'race', 'sex']\n",
    "\n",
    "imputer = SimpleImputer(missing_values=np.nan, strategy='constant', fill_value=0)\n",
    "\n",
    "X_train[cols_to_impute] = imputer.fit_transform(X_train[cols_to_impute])\n",
    "X_test[cols_to_impute] = imputer.transform(X_test[cols_to_impute])"
   ]
  },
  {
   "cell_type": "markdown",
   "metadata": {},
   "source": [
    "### Ordinal and Interval Data"
   ]
  },
  {
   "cell_type": "markdown",
   "metadata": {},
   "source": [
    "There are some columns in our dataset that has a ranking of responses on a scale of 1 to 5. The columns are opinion_seas_sick_from_vacc, opinion_seas_risk, opinion_seas_vacc_effective, education and employment_status. In this case, I will replace the missing values with the most frequent value to preserve the nature of the variable. "
   ]
  },
  {
   "cell_type": "code",
   "execution_count": 25,
   "metadata": {},
   "outputs": [],
   "source": [
    "# Define columns to impute\n",
    "cols_to_impute = ['opinion_seas_sick_from_vacc', 'opinion_seas_risk', 'opinion_seas_vacc_effective', 'employment_status']\n",
    "\n",
    "# Create an instance of SimpleImputer with 'most_frequent' strategy\n",
    "imputer = SimpleImputer(strategy='most_frequent')\n",
    "\n",
    "# Fit and transform the imputer on the train set\n",
    "X_train[cols_to_impute] = imputer.fit_transform(X_train[cols_to_impute])\n",
    "\n",
    "# Transform the test set using the trained imputer\n",
    "X_test[cols_to_impute] = imputer.transform(X_test[cols_to_impute])"
   ]
  },
  {
   "cell_type": "markdown",
   "metadata": {},
   "source": [
    "Household_adults and Household_children, have an equal and small number of missing values. To do deal with this, I will use the median to vill the missing values. Since it's a small number, this should not significantly bias the data. "
   ]
  },
  {
   "cell_type": "code",
   "execution_count": 26,
   "metadata": {},
   "outputs": [],
   "source": [
    "# create an instance of SimpleImputer with strategy='median'\n",
    "imputer = SimpleImputer(strategy='median')\n",
    "\n",
    "# fit and transform the imputer to the 'household_adults' and 'household_children' columns in X_train\n",
    "X_train[['household_adults', 'household_children']] = imputer.fit_transform(X_train[['household_adults', 'household_children']])\n",
    "\n",
    "# transform the imputer to the 'household_adults' and 'household_children' columns in X_test\n",
    "X_test[['household_adults', 'household_children']] = imputer.transform(X_test[['household_adults', 'household_children']])"
   ]
  },
  {
   "cell_type": "markdown",
   "metadata": {},
   "source": [
    "Let's take a closer look at the employment_status column. I will need to scale the data to prepare it for my machine learning models. "
   ]
  },
  {
   "cell_type": "code",
   "execution_count": 27,
   "metadata": {},
   "outputs": [
    {
     "data": {
      "text/plain": [
       "Employed              10529\n",
       "Not in Labor Force     7163\n",
       "Unemployed             1002\n",
       "Name: employment_status, dtype: int64"
      ]
     },
     "execution_count": 27,
     "metadata": {},
     "output_type": "execute_result"
    }
   ],
   "source": [
    "X_train['employment_status'].value_counts()"
   ]
  },
  {
   "cell_type": "markdown",
   "metadata": {},
   "source": [
    "I will use the OrdinalEncoder to transform the employment_status column in both X_train and X_test datasets. The original encoding will replace the categorical values with integers, starting from 0."
   ]
  },
  {
   "cell_type": "code",
   "execution_count": 28,
   "metadata": {},
   "outputs": [],
   "source": [
    "# Create an OrdinalEncoder object\n",
    "ordinal_encoder = OrdinalEncoder(categories=[['Not in Labor Force', 'Unemployed', 'Employed']])\n",
    "\n",
    "# Fit and transform the employment_status column in X_train and X_test\n",
    "X_train['employment_status'] = ordinal_encoder.fit_transform(X_train[['employment_status']])\n",
    "X_test['employment_status'] = ordinal_encoder.transform(X_test[['employment_status']])"
   ]
  },
  {
   "cell_type": "markdown",
   "metadata": {},
   "source": [
    "Let's double check to see if all of our missing values are handled. "
   ]
  },
  {
   "cell_type": "code",
   "execution_count": 29,
   "metadata": {},
   "outputs": [
    {
     "name": "stdout",
     "output_type": "stream",
     "text": [
      "respondent_id                  0\n",
      "health_insurance               0\n",
      "employment_status              0\n",
      "behavioral_antiviral_meds      0\n",
      "behavioral_avoidance           0\n",
      "behavioral_face_mask           0\n",
      "behavioral_wash_hands          0\n",
      "behavioral_large_gatherings    0\n",
      "behavioral_outside_home        0\n",
      "behavioral_touch_face          0\n",
      "doctor_recc_seasonal           0\n",
      "chronic_med_condition          0\n",
      "child_under_6_months           0\n",
      "health_worker                  0\n",
      "opinion_seas_vacc_effective    0\n",
      "opinion_seas_risk              0\n",
      "opinion_seas_sick_from_vacc    0\n",
      "age_group                      0\n",
      "education                      0\n",
      "race                           0\n",
      "sex                            0\n",
      "household_adults               0\n",
      "household_children             0\n",
      "dtype: int64\n"
     ]
    }
   ],
   "source": [
    "# count the number of missing values in each column\n",
    "missing_counts = X_train.isnull().sum()\n",
    "\n",
    "# print the result\n",
    "print(missing_counts)"
   ]
  },
  {
   "cell_type": "markdown",
   "metadata": {},
   "source": [
    "Great! Now I can move on to one hot encoding our categorical columns."
   ]
  },
  {
   "cell_type": "code",
   "execution_count": 30,
   "metadata": {},
   "outputs": [
    {
     "name": "stdout",
     "output_type": "stream",
     "text": [
      "<class 'pandas.core.frame.DataFrame'>\n",
      "Int64Index: 18694 entries, 5303 to 23654\n",
      "Data columns (total 23 columns):\n",
      " #   Column                       Non-Null Count  Dtype  \n",
      "---  ------                       --------------  -----  \n",
      " 0   respondent_id                18694 non-null  int64  \n",
      " 1   health_insurance             18694 non-null  float64\n",
      " 2   employment_status            18694 non-null  float64\n",
      " 3   behavioral_antiviral_meds    18694 non-null  float64\n",
      " 4   behavioral_avoidance         18694 non-null  float64\n",
      " 5   behavioral_face_mask         18694 non-null  float64\n",
      " 6   behavioral_wash_hands        18694 non-null  float64\n",
      " 7   behavioral_large_gatherings  18694 non-null  float64\n",
      " 8   behavioral_outside_home      18694 non-null  float64\n",
      " 9   behavioral_touch_face        18694 non-null  float64\n",
      " 10  doctor_recc_seasonal         18694 non-null  float64\n",
      " 11  chronic_med_condition        18694 non-null  float64\n",
      " 12  child_under_6_months         18694 non-null  float64\n",
      " 13  health_worker                18694 non-null  float64\n",
      " 14  opinion_seas_vacc_effective  18694 non-null  float64\n",
      " 15  opinion_seas_risk            18694 non-null  float64\n",
      " 16  opinion_seas_sick_from_vacc  18694 non-null  float64\n",
      " 17  age_group                    18694 non-null  object \n",
      " 18  education                    18694 non-null  object \n",
      " 19  race                         18694 non-null  object \n",
      " 20  sex                          18694 non-null  object \n",
      " 21  household_adults             18694 non-null  float64\n",
      " 22  household_children           18694 non-null  float64\n",
      "dtypes: float64(18), int64(1), object(4)\n",
      "memory usage: 3.4+ MB\n"
     ]
    }
   ],
   "source": [
    "X_train.info()"
   ]
  },
  {
   "cell_type": "markdown",
   "metadata": {},
   "source": [
    "### One Hot Encoding"
   ]
  },
  {
   "cell_type": "markdown",
   "metadata": {},
   "source": [
    "I have four categories that need to be encoded into my training dataset. "
   ]
  },
  {
   "cell_type": "code",
   "execution_count": 31,
   "metadata": {},
   "outputs": [
    {
     "name": "stdout",
     "output_type": "stream",
     "text": [
      "X_train_encoded shape: (18694, 35)\n",
      "X_test_encoded shape: (8013, 35)\n"
     ]
    }
   ],
   "source": [
    "# Define columns to one-hot encode\n",
    "columns_to_encode = ['age_group', 'education', 'race', 'sex']\n",
    "\n",
    "# One-hot encode the columns in X_train and X_test\n",
    "X_train_encoded = pd.get_dummies(X_train, columns=columns_to_encode)\n",
    "X_test_encoded = pd.get_dummies(X_test, columns=columns_to_encode)\n",
    "\n",
    "# Print the shapes of the encoded datasets\n",
    "print('X_train_encoded shape:', X_train_encoded.shape)\n",
    "print('X_test_encoded shape:', X_test_encoded.shape)"
   ]
  },
  {
   "cell_type": "code",
   "execution_count": 32,
   "metadata": {},
   "outputs": [],
   "source": [
    "feature_names = X_train_encoded.columns\n",
    "features_list = list(X_train_encoded.columns)"
   ]
  },
  {
   "cell_type": "code",
   "execution_count": 33,
   "metadata": {},
   "outputs": [
    {
     "name": "stdout",
     "output_type": "stream",
     "text": [
      "respondent_id                  0\n",
      "health_insurance               0\n",
      "employment_status              0\n",
      "behavioral_antiviral_meds      0\n",
      "behavioral_avoidance           0\n",
      "behavioral_face_mask           0\n",
      "behavioral_wash_hands          0\n",
      "behavioral_large_gatherings    0\n",
      "behavioral_outside_home        0\n",
      "behavioral_touch_face          0\n",
      "doctor_recc_seasonal           0\n",
      "chronic_med_condition          0\n",
      "child_under_6_months           0\n",
      "health_worker                  0\n",
      "opinion_seas_vacc_effective    0\n",
      "opinion_seas_risk              0\n",
      "opinion_seas_sick_from_vacc    0\n",
      "household_adults               0\n",
      "household_children             0\n",
      "age_group_18 - 34 Years        0\n",
      "age_group_35 - 44 Years        0\n",
      "age_group_45 - 54 Years        0\n",
      "age_group_55 - 64 Years        0\n",
      "age_group_65+ Years            0\n",
      "education_0                    0\n",
      "education_12 Years             0\n",
      "education_< 12 Years           0\n",
      "education_College Graduate     0\n",
      "education_Some College         0\n",
      "race_Black                     0\n",
      "race_Hispanic                  0\n",
      "race_Other or Multiple         0\n",
      "race_White                     0\n",
      "sex_Female                     0\n",
      "sex_Male                       0\n",
      "dtype: int64\n"
     ]
    }
   ],
   "source": [
    "# count the number of missing values in each column\n",
    "missing_counts = X_train_encoded.isnull().sum()\n",
    "\n",
    "# print the result\n",
    "print(missing_counts)"
   ]
  },
  {
   "cell_type": "markdown",
   "metadata": {},
   "source": [
    "After I did the one hot encoding, it looks like it presented missing values. I'll use the fillna method to fill the missing values with 0, since they are now binary columns. "
   ]
  },
  {
   "cell_type": "markdown",
   "metadata": {},
   "source": [
    "### MinMax Scaler"
   ]
  },
  {
   "cell_type": "markdown",
   "metadata": {},
   "source": [
    "Great, there's no missing values. Next I will use MinMax Scaler for feature scaling. The data is not normally distributed and the range of variables varies, so the data needs to be scaled to a fixed range. I will fit the transformer on the train data. "
   ]
  },
  {
   "cell_type": "code",
   "execution_count": 34,
   "metadata": {},
   "outputs": [],
   "source": [
    "# Create an instance of the scaler\n",
    "scaler = MinMaxScaler()\n",
    "\n",
    "# Fit the scaler to the training data and transform it\n",
    "X_train_scaled = scaler.fit_transform(X_train_encoded)\n",
    "X_test_scaled = scaler.transform(X_test_encoded)"
   ]
  },
  {
   "cell_type": "code",
   "execution_count": 35,
   "metadata": {
    "scrolled": true
   },
   "outputs": [
    {
     "name": "stdout",
     "output_type": "stream",
     "text": [
      "[[0.19856961 0.         0.         ... 1.         0.         1.        ]\n",
      " [0.10121321 0.         1.         ... 0.         0.         1.        ]\n",
      " [0.24661125 1.         1.         ... 1.         1.         0.        ]\n",
      " ...\n",
      " [0.0322025  0.         1.         ... 1.         1.         0.        ]\n",
      " [0.59144013 1.         1.         ... 0.         1.         0.        ]\n",
      " [0.88571857 1.         1.         ... 0.         0.         1.        ]]\n",
      "[[0.5905789  0.         1.         ... 1.         1.         0.        ]\n",
      " [0.35224294 0.         1.         ... 1.         0.         1.        ]\n",
      " [0.61840036 1.         1.         ... 1.         1.         0.        ]\n",
      " ...\n",
      " [0.9684715  0.         0.         ... 1.         1.         0.        ]\n",
      " [0.21995057 0.         0.5        ... 0.         1.         0.        ]\n",
      " [0.83258444 0.         0.         ... 0.         0.         1.        ]]\n"
     ]
    }
   ],
   "source": [
    "print(X_train_scaled)\n",
    "print(X_test_scaled)"
   ]
  },
  {
   "cell_type": "markdown",
   "metadata": {},
   "source": [
    "### Logistic Regression Model"
   ]
  },
  {
   "cell_type": "markdown",
   "metadata": {},
   "source": [
    "This is a binary classification problem, therefore, I will create a logistic regression model to fit into my preprocessed training dataset. I want to predict whether someone got a flu shot or not, which is a problem where there are only two possible outcomes."
   ]
  },
  {
   "cell_type": "code",
   "execution_count": 36,
   "metadata": {},
   "outputs": [
    {
     "data": {
      "text/plain": [
       "LogisticRegression(C=1000000000000.0, fit_intercept=False, solver='liblinear')"
      ]
     },
     "execution_count": 36,
     "metadata": {},
     "output_type": "execute_result"
    }
   ],
   "source": [
    "# Sckikit-learn LogisticRegression model \n",
    "logreg = LogisticRegression(fit_intercept=False, C=1e12, solver='liblinear')\n",
    "model_log = logreg.fit(X_train_scaled, y_train)\n",
    "model_log"
   ]
  },
  {
   "cell_type": "markdown",
   "metadata": {},
   "source": [
    "### Performance on Training Data"
   ]
  },
  {
   "cell_type": "markdown",
   "metadata": {},
   "source": [
    "Now that I have a model, let's see how it performs on the training data. We will calculate the residuals on the training data to evaluate the performance of a logistic regression model."
   ]
  },
  {
   "cell_type": "code",
   "execution_count": 37,
   "metadata": {},
   "outputs": [
    {
     "name": "stdout",
     "output_type": "stream",
     "text": [
      "0    14467\n",
      "1     4227\n",
      "Name: Residuals (counts), dtype: int64\n",
      "\n",
      "0    0.773885\n",
      "1    0.226115\n",
      "Name: Residuals (proportions), dtype: float64\n"
     ]
    }
   ],
   "source": [
    "y_hat_train = logreg.predict(X_train_scaled)\n",
    "# Difference between predicted and actual labels \n",
    "train_residuals = np.abs(y_train - y_hat_train)\n",
    "print(pd.Series(train_residuals, name=\"Residuals (counts)\").value_counts())\n",
    "print()\n",
    "print(pd.Series(train_residuals, name=\"Residuals (proportions)\").value_counts(normalize=True))"
   ]
  },
  {
   "cell_type": "markdown",
   "metadata": {},
   "source": [
    "In this code, 0 means the prediction and the actual value matched, 1 means the prediction and the actual value did not match. So, this is saying 77.39% has a value of 0, which means that the predicted lables match the actual label. The remaining 22.61% of the residuals did not match the actual label. "
   ]
  },
  {
   "cell_type": "markdown",
   "metadata": {},
   "source": [
    "### Performance on Test Data"
   ]
  },
  {
   "cell_type": "code",
   "execution_count": 38,
   "metadata": {},
   "outputs": [
    {
     "name": "stdout",
     "output_type": "stream",
     "text": [
      "0    4366\n",
      "1    3647\n",
      "Name: Residuals (counts), dtype: int64\n",
      "\n",
      "0    0.544865\n",
      "1    0.455135\n",
      "Name: Residuals (proportions), dtype: float64\n"
     ]
    }
   ],
   "source": [
    "y_hat_test = logreg.predict(X_test_encoded)\n",
    "\n",
    "test_residuals = np.abs(y_test - y_hat_test)\n",
    "print(pd.Series(test_residuals, name=\"Residuals (counts)\").value_counts())\n",
    "print()\n",
    "print(pd.Series(test_residuals, name=\"Residuals (proportions)\").value_counts(normalize=True))"
   ]
  },
  {
   "cell_type": "markdown",
   "metadata": {},
   "source": [
    "In this case, 54.49% of the residuals have a value of 0, which means that the predicted label matched the actual label, while 45.51% of the residuals have a value of 1, which means that the predicted label did not match the actual label. The residuals with a value of 1 is lower which means the model is making fewer incorrect predictions. "
   ]
  },
  {
   "cell_type": "markdown",
   "metadata": {},
   "source": [
    "### Grid Search"
   ]
  },
  {
   "cell_type": "markdown",
   "metadata": {},
   "source": [
    "I want to improve the accuracy of the baseline models. I will do a grid search to find the best combination of hyperparameters for the logistic regression model. But, before I do that, I will refactor my code to build a pipeline so I can perform a Grid Search in a way that avoids data leakage. "
   ]
  },
  {
   "cell_type": "code",
   "execution_count": 39,
   "metadata": {},
   "outputs": [],
   "source": [
    "# create a pipeline\n",
    "pipe = Pipeline([\n",
    "    ('scaler', MinMaxScaler()),\n",
    "    ('classifier', LogisticRegression())\n",
    "])\n",
    "\n",
    "# define the parameter grid to search over\n",
    "param_grid = {\n",
    "    'classifier__solver': ['liblinear'], \n",
    "    'classifier__penalty': ['l1', 'l2'], \n",
    "    'classifier__C': [0.001, 0.01, 0.1, 1, 10, 100, 1000]\n",
    "}\n",
    "\n",
    "# create the grid search object\n",
    "grid_search = GridSearchCV(pipe, param_grid, cv=5)\n",
    "\n",
    "# fit the grid search to the training data\n",
    "grid_search.fit(X_train_scaled, y_train)\n",
    "\n",
    "# evaluate the best model on the test data\n",
    "best_model = grid_search.best_estimator_\n",
    "accuracy = best_model.score(X_test_encoded, y_test)\n"
   ]
  },
  {
   "cell_type": "code",
   "execution_count": 40,
   "metadata": {},
   "outputs": [
    {
     "name": "stdout",
     "output_type": "stream",
     "text": [
      "0.54623736428304\n"
     ]
    }
   ],
   "source": [
    "print(accuracy)"
   ]
  },
  {
   "cell_type": "code",
   "execution_count": 41,
   "metadata": {},
   "outputs": [
    {
     "data": {
      "text/plain": [
       "{'classifier__C': 0.1,\n",
       " 'classifier__penalty': 'l1',\n",
       " 'classifier__solver': 'liblinear'}"
      ]
     },
     "execution_count": 41,
     "metadata": {},
     "output_type": "execute_result"
    }
   ],
   "source": [
    "grid_search.best_params_"
   ]
  },
  {
   "cell_type": "markdown",
   "metadata": {},
   "source": [
    "So the best combination is C=01, penality = 11 or Lasso regularization, and solver=liblinear which is good for small dataset. "
   ]
  },
  {
   "cell_type": "code",
   "execution_count": 42,
   "metadata": {},
   "outputs": [],
   "source": [
    "# Create a new logistic regression model using the hyperparameters obtained from the grid search\n",
    "logreg_model = LogisticRegression(C=0.1, penalty='l1', solver='liblinear')\n",
    "logreg_model.fit(X_train_scaled, y_train)\n",
    "y_pred = logreg_model.predict(X_test_encoded)"
   ]
  },
  {
   "cell_type": "code",
   "execution_count": 43,
   "metadata": {},
   "outputs": [
    {
     "name": "stdout",
     "output_type": "stream",
     "text": [
      "Accuracy on training data: 0.7737776826789344\n",
      "Accuracy on test data: 0.54623736428304\n",
      "Training classification report:\n",
      "              precision    recall  f1-score   support\n",
      "\n",
      "     class 0       0.78      0.81      0.79      9930\n",
      "     class 1       0.77      0.74      0.75      8764\n",
      "\n",
      "    accuracy                           0.77     18694\n",
      "   macro avg       0.77      0.77      0.77     18694\n",
      "weighted avg       0.77      0.77      0.77     18694\n",
      "\n",
      "Test classification report:\n",
      "              precision    recall  f1-score   support\n",
      "\n",
      "     class 0       0.54      0.99      0.70      4342\n",
      "     class 1       0.68      0.02      0.03      3671\n",
      "\n",
      "    accuracy                           0.55      8013\n",
      "   macro avg       0.61      0.51      0.37      8013\n",
      "weighted avg       0.61      0.55      0.40      8013\n",
      "\n"
     ]
    }
   ],
   "source": [
    "logreg_new = logreg_model\n",
    "# Fit the new logistic regression model on the scaled training data\n",
    "logreg_new.fit(X_train_scaled, y_train)\n",
    "\n",
    "# Predict the labels for the training and test data\n",
    "y_train_pred = logreg_new.predict(X_train_scaled)\n",
    "y_test_pred = logreg_new.predict(X_test_encoded)\n",
    "\n",
    "# Calculate the accuracy of the new model on the training and test data\n",
    "accuracy_train = accuracy_score(y_train, y_train_pred)\n",
    "accuracy_test = accuracy_score(y_test, y_test_pred)\n",
    "print(\"Accuracy on training data:\", accuracy_train)\n",
    "print(\"Accuracy on test data:\", accuracy_test)\n",
    "\n",
    "# Generate the classification report for the training and test data\n",
    "target_names = ['class 0', 'class 1']\n",
    "print(\"Training classification report:\")\n",
    "print(classification_report(y_train, y_train_pred, target_names=target_names))\n",
    "print(\"Test classification report:\")\n",
    "print(classification_report(y_test, y_test_pred, target_names=target_names))\n"
   ]
  },
  {
   "cell_type": "code",
   "execution_count": 44,
   "metadata": {},
   "outputs": [
    {
     "data": {
      "image/png": "[encoded data removed]",
      "text/plain": [
       "<Figure size 432x288 with 1 Axes>"
      ]
     },
     "metadata": {},
     "output_type": "display_data"
    }
   ],
   "source": [
    "# Define the data\n",
    "accuracy_scores = [accuracy_train, accuracy_test]\n",
    "labels = ['X_train_scaled', 'X_test_encoded']\n",
    "\n",
    "# Create the bar chart\n",
    "plt.bar(labels, accuracy_scores)\n",
    "\n",
    "# Add labels and title\n",
    "plt.xlabel('Dataset')\n",
    "plt.ylabel('Accuracy')\n",
    "plt.title('Accuracy of Logistic Regression Model')\n",
    "\n",
    "# Show the plot\n",
    "plt.show()"
   ]
  },
  {
   "cell_type": "markdown",
   "metadata": {},
   "source": [
    "The overall accuracy on the test data is low (0.55), which means the model is not performing well on new, unseen data. The low test accuracy and the difference between training and test accuracy suggest that the model is overfitting the training data."
   ]
  },
  {
   "cell_type": "markdown",
   "metadata": {},
   "source": [
    "### Decision Tree Classifier"
   ]
  },
  {
   "cell_type": "code",
   "execution_count": 45,
   "metadata": {},
   "outputs": [],
   "source": [
    "# Define the pipeline steps\n",
    "pipeline_steps = [\n",
    "    ('decision_tree', DecisionTreeClassifier())\n",
    "]\n",
    "\n",
    "# Create the pipeline\n",
    "decision_tree_pipeline = Pipeline(pipeline_steps)\n"
   ]
  },
  {
   "cell_type": "code",
   "execution_count": 46,
   "metadata": {},
   "outputs": [
    {
     "data": {
      "text/plain": [
       "Pipeline(steps=[('decision_tree', DecisionTreeClassifier())])"
      ]
     },
     "execution_count": 46,
     "metadata": {},
     "output_type": "execute_result"
    }
   ],
   "source": [
    "decision_tree_pipeline.fit(X_train_scaled, y_train)"
   ]
  },
  {
   "cell_type": "code",
   "execution_count": 47,
   "metadata": {},
   "outputs": [
    {
     "name": "stdout",
     "output_type": "stream",
     "text": [
      "Confusion Matrix:\n",
      "[[1788 2554]\n",
      " [ 996 2675]]\n",
      "\n",
      "Classification Report:\n",
      "              precision    recall  f1-score   support\n",
      "\n",
      "           0       0.64      0.41      0.50      4342\n",
      "           1       0.51      0.73      0.60      3671\n",
      "\n",
      "    accuracy                           0.56      8013\n",
      "   macro avg       0.58      0.57      0.55      8013\n",
      "weighted avg       0.58      0.56      0.55      8013\n",
      "\n",
      "\n",
      "Accuracy Score:\n",
      "0.5569699238737053\n"
     ]
    }
   ],
   "source": [
    "# Make predictions using the preprocessed test data\n",
    "y_pred = decision_tree_pipeline.predict(X_test_encoded)\n",
    "\n",
    "# Evaluate the pipeline using various metrics\n",
    "print(\"Confusion Matrix:\")\n",
    "print(confusion_matrix(y_test, y_pred))\n",
    "\n",
    "print(\"\\nClassification Report:\")\n",
    "print(classification_report(y_test, y_pred))\n",
    "\n",
    "print(\"\\nAccuracy Score:\")\n",
    "print(accuracy_score(y_test, y_pred))\n"
   ]
  },
  {
   "cell_type": "code",
   "execution_count": 48,
   "metadata": {},
   "outputs": [
    {
     "data": {
      "text/plain": [
       "{'memory': None,\n",
       " 'steps': [('decision_tree', DecisionTreeClassifier())],\n",
       " 'verbose': False,\n",
       " 'decision_tree': DecisionTreeClassifier(),\n",
       " 'decision_tree__ccp_alpha': 0.0,\n",
       " 'decision_tree__class_weight': None,\n",
       " 'decision_tree__criterion': 'gini',\n",
       " 'decision_tree__max_depth': None,\n",
       " 'decision_tree__max_features': None,\n",
       " 'decision_tree__max_leaf_nodes': None,\n",
       " 'decision_tree__min_impurity_decrease': 0.0,\n",
       " 'decision_tree__min_impurity_split': None,\n",
       " 'decision_tree__min_samples_leaf': 1,\n",
       " 'decision_tree__min_samples_split': 2,\n",
       " 'decision_tree__min_weight_fraction_leaf': 0.0,\n",
       " 'decision_tree__presort': 'deprecated',\n",
       " 'decision_tree__random_state': None,\n",
       " 'decision_tree__splitter': 'best'}"
      ]
     },
     "execution_count": 48,
     "metadata": {},
     "output_type": "execute_result"
    }
   ],
   "source": [
    "decision_tree_pipeline.get_params()"
   ]
  },
  {
   "cell_type": "code",
   "execution_count": 49,
   "metadata": {},
   "outputs": [],
   "source": [
    "#Define the hyperparameter grid for the Decision Tree Classifier within the pipeline\n",
    "param_grid = {\n",
    "    'decision_tree__max_depth': [None, 5, 10, 15, 20],\n",
    "    'decision_tree__min_samples_split': [2, 5, 10],\n",
    "    'decision_tree__min_samples_leaf': [1, 2, 4],\n",
    "    'decision_tree__max_features': [None, 'sqrt', 'log2']\n",
    "}"
   ]
  },
  {
   "cell_type": "code",
   "execution_count": 50,
   "metadata": {},
   "outputs": [],
   "source": [
    "#Create the Grid Search Cross-Validation instance with the pipeline:\n",
    "grid_search = GridSearchCV(estimator=decision_tree_pipeline, param_grid=param_grid, cv=5, scoring='accuracy', n_jobs=-1)"
   ]
  },
  {
   "cell_type": "code",
   "execution_count": 51,
   "metadata": {
    "scrolled": true
   },
   "outputs": [
    {
     "data": {
      "text/plain": [
       "GridSearchCV(cv=5,\n",
       "             estimator=Pipeline(steps=[('decision_tree',\n",
       "                                        DecisionTreeClassifier())]),\n",
       "             n_jobs=-1,\n",
       "             param_grid={'decision_tree__max_depth': [None, 5, 10, 15, 20],\n",
       "                         'decision_tree__max_features': [None, 'sqrt', 'log2'],\n",
       "                         'decision_tree__min_samples_leaf': [1, 2, 4],\n",
       "                         'decision_tree__min_samples_split': [2, 5, 10]},\n",
       "             scoring='accuracy')"
      ]
     },
     "execution_count": 51,
     "metadata": {},
     "output_type": "execute_result"
    }
   ],
   "source": [
    "#Fit the Grid Search to the preprocessed training data\n",
    "grid_search.fit(X_train_scaled, y_train)"
   ]
  },
  {
   "cell_type": "code",
   "execution_count": 52,
   "metadata": {},
   "outputs": [
    {
     "name": "stdout",
     "output_type": "stream",
     "text": [
      "Best Hyperparameters:\n",
      "{'decision_tree__max_depth': 5, 'decision_tree__max_features': None, 'decision_tree__min_samples_leaf': 1, 'decision_tree__min_samples_split': 2}\n"
     ]
    }
   ],
   "source": [
    "# Get the best hyperparameters\n",
    "best_params = grid_search.best_params_\n",
    "print(\"Best Hyperparameters:\")\n",
    "print(best_params)\n",
    "\n",
    "# Get the best estimator\n",
    "best_estimator = grid_search.best_estimator_"
   ]
  },
  {
   "cell_type": "code",
   "execution_count": 53,
   "metadata": {},
   "outputs": [
    {
     "data": {
      "text/plain": [
       "DecisionTreeClassifier(max_depth=5, random_state=42)"
      ]
     },
     "execution_count": 53,
     "metadata": {},
     "output_type": "execute_result"
    }
   ],
   "source": [
    "clf_decision_tree = DecisionTreeClassifier(max_depth=5,\n",
    "                                           max_features=None,\n",
    "                                           min_samples_leaf=1,\n",
    "                                           min_samples_split=2,\n",
    "                                           random_state=42)\n",
    "clf_decision_tree.fit(X_train_scaled, y_train)"
   ]
  },
  {
   "cell_type": "code",
   "execution_count": 54,
   "metadata": {},
   "outputs": [],
   "source": [
    "test_pred_decision_tree = decision_tree_pipeline.predict(X_test_scaled)"
   ]
  },
  {
   "cell_type": "code",
   "execution_count": 55,
   "metadata": {},
   "outputs": [
    {
     "name": "stdout",
     "output_type": "stream",
     "text": [
      "<function confusion_matrix at 0x7f873a9c79d0>\n"
     ]
    }
   ],
   "source": [
    "print(confusion_matrix)"
   ]
  },
  {
   "cell_type": "code",
   "execution_count": 56,
   "metadata": {
    "scrolled": true
   },
   "outputs": [
    {
     "name": "stdout",
     "output_type": "stream",
     "text": [
      "|--- opinion_seas_vacc_effective <= 0.88\n",
      "|   |--- doctor_recc_seasonal <= 0.50\n",
      "|   |   |--- opinion_seas_risk <= 0.38\n",
      "|   |   |   |--- age_group_65+ Years <= 0.50\n",
      "|   |   |   |   |--- opinion_seas_risk <= 0.12\n",
      "|   |   |   |   |   |--- class: 0\n",
      "|   |   |   |   |--- opinion_seas_risk >  0.12\n",
      "|   |   |   |   |   |--- class: 0\n",
      "|   |   |   |--- age_group_65+ Years >  0.50\n",
      "|   |   |   |   |--- opinion_seas_risk <= 0.12\n",
      "|   |   |   |   |   |--- class: 0\n",
      "|   |   |   |   |--- opinion_seas_risk >  0.12\n",
      "|   |   |   |   |   |--- class: 0\n",
      "|   |   |--- opinion_seas_risk >  0.38\n",
      "|   |   |   |--- age_group_18 - 34 Years <= 0.50\n",
      "|   |   |   |   |--- health_worker <= 0.50\n",
      "|   |   |   |   |   |--- class: 0\n",
      "|   |   |   |   |--- health_worker >  0.50\n",
      "|   |   |   |   |   |--- class: 1\n",
      "|   |   |   |--- age_group_18 - 34 Years >  0.50\n",
      "|   |   |   |   |--- health_worker <= 0.50\n",
      "|   |   |   |   |   |--- class: 0\n",
      "|   |   |   |   |--- health_worker >  0.50\n",
      "|   |   |   |   |   |--- class: 0\n",
      "|   |--- doctor_recc_seasonal >  0.50\n",
      "|   |   |--- opinion_seas_risk <= 0.12\n",
      "|   |   |   |--- household_children <= 0.17\n",
      "|   |   |   |   |--- opinion_seas_sick_from_vacc <= 0.88\n",
      "|   |   |   |   |   |--- class: 0\n",
      "|   |   |   |   |--- opinion_seas_sick_from_vacc >  0.88\n",
      "|   |   |   |   |   |--- class: 0\n",
      "|   |   |   |--- household_children >  0.17\n",
      "|   |   |   |   |--- respondent_id <= 0.80\n",
      "|   |   |   |   |   |--- class: 0\n",
      "|   |   |   |   |--- respondent_id >  0.80\n",
      "|   |   |   |   |   |--- class: 0\n",
      "|   |   |--- opinion_seas_risk >  0.12\n",
      "|   |   |   |--- opinion_seas_vacc_effective <= 0.38\n",
      "|   |   |   |   |--- opinion_seas_risk <= 0.38\n",
      "|   |   |   |   |   |--- class: 0\n",
      "|   |   |   |   |--- opinion_seas_risk >  0.38\n",
      "|   |   |   |   |   |--- class: 1\n",
      "|   |   |   |--- opinion_seas_vacc_effective >  0.38\n",
      "|   |   |   |   |--- age_group_65+ Years <= 0.50\n",
      "|   |   |   |   |   |--- class: 1\n",
      "|   |   |   |   |--- age_group_65+ Years >  0.50\n",
      "|   |   |   |   |   |--- class: 1\n",
      "|--- opinion_seas_vacc_effective >  0.88\n",
      "|   |--- doctor_recc_seasonal <= 0.50\n",
      "|   |   |--- opinion_seas_risk <= 0.38\n",
      "|   |   |   |--- age_group_65+ Years <= 0.50\n",
      "|   |   |   |   |--- opinion_seas_risk <= 0.12\n",
      "|   |   |   |   |   |--- class: 0\n",
      "|   |   |   |   |--- opinion_seas_risk >  0.12\n",
      "|   |   |   |   |   |--- class: 0\n",
      "|   |   |   |--- age_group_65+ Years >  0.50\n",
      "|   |   |   |   |--- opinion_seas_sick_from_vacc <= 0.12\n",
      "|   |   |   |   |   |--- class: 1\n",
      "|   |   |   |   |--- opinion_seas_sick_from_vacc >  0.12\n",
      "|   |   |   |   |   |--- class: 1\n",
      "|   |   |--- opinion_seas_risk >  0.38\n",
      "|   |   |   |--- age_group_18 - 34 Years <= 0.50\n",
      "|   |   |   |   |--- health_insurance <= 0.50\n",
      "|   |   |   |   |   |--- class: 1\n",
      "|   |   |   |   |--- health_insurance >  0.50\n",
      "|   |   |   |   |   |--- class: 1\n",
      "|   |   |   |--- age_group_18 - 34 Years >  0.50\n",
      "|   |   |   |   |--- health_worker <= 0.50\n",
      "|   |   |   |   |   |--- class: 0\n",
      "|   |   |   |   |--- health_worker >  0.50\n",
      "|   |   |   |   |   |--- class: 1\n",
      "|   |--- doctor_recc_seasonal >  0.50\n",
      "|   |   |--- age_group_18 - 34 Years <= 0.50\n",
      "|   |   |   |--- health_insurance <= 0.50\n",
      "|   |   |   |   |--- opinion_seas_sick_from_vacc <= 0.12\n",
      "|   |   |   |   |   |--- class: 1\n",
      "|   |   |   |   |--- opinion_seas_sick_from_vacc >  0.12\n",
      "|   |   |   |   |   |--- class: 1\n",
      "|   |   |   |--- health_insurance >  0.50\n",
      "|   |   |   |   |--- opinion_seas_risk <= 0.12\n",
      "|   |   |   |   |   |--- class: 1\n",
      "|   |   |   |   |--- opinion_seas_risk >  0.12\n",
      "|   |   |   |   |   |--- class: 1\n",
      "|   |   |--- age_group_18 - 34 Years >  0.50\n",
      "|   |   |   |--- opinion_seas_risk <= 0.38\n",
      "|   |   |   |   |--- respondent_id <= 0.92\n",
      "|   |   |   |   |   |--- class: 1\n",
      "|   |   |   |   |--- respondent_id >  0.92\n",
      "|   |   |   |   |   |--- class: 0\n",
      "|   |   |   |--- opinion_seas_risk >  0.38\n",
      "|   |   |   |   |--- education_< 12 Years <= 0.50\n",
      "|   |   |   |   |   |--- class: 1\n",
      "|   |   |   |   |--- education_< 12 Years >  0.50\n",
      "|   |   |   |   |   |--- class: 0\n",
      "\n"
     ]
    }
   ],
   "source": [
    "from sklearn.tree import export_text\n",
    "tree_rules = export_text(clf_decision_tree,\n",
    "                        feature_names = features_list)\n",
    "print(tree_rules)"
   ]
  },
  {
   "cell_type": "markdown",
   "metadata": {},
   "source": [
    "The tree is divided into two main branches based on the value of the \"opinion_seas_vacc_effective\" variable. If this value is less than or equal to 0.88, the left branch is followed, and if it is greater than 0.88, the right branch is followed. Each subsequent level of the tree represents a new set of conditions that further refines the decision-making process."
   ]
  },
  {
   "cell_type": "code",
   "execution_count": 57,
   "metadata": {},
   "outputs": [],
   "source": [
    "test_pred_decision_tree = clf_decision_tree.predict(X_test_scaled)"
   ]
  },
  {
   "cell_type": "code",
   "execution_count": 58,
   "metadata": {},
   "outputs": [],
   "source": [
    "from sklearn import metrics\n",
    "confusion_matrix = metrics.confusion_matrix(y_test, \n",
    "                                            test_pred_decision_tree)"
   ]
  },
  {
   "cell_type": "code",
   "execution_count": 59,
   "metadata": {},
   "outputs": [
    {
     "name": "stdout",
     "output_type": "stream",
     "text": [
      "[[3581  761]\n",
      " [1184 2487]]\n"
     ]
    }
   ],
   "source": [
    "print(confusion_matrix)"
   ]
  },
  {
   "cell_type": "code",
   "execution_count": 60,
   "metadata": {
    "scrolled": true
   },
   "outputs": [
    {
     "data": {
      "text/plain": [
       "0.7572694371646075"
      ]
     },
     "execution_count": 60,
     "metadata": {},
     "output_type": "execute_result"
    }
   ],
   "source": [
    "metrics.accuracy_score(y_test, test_pred_decision_tree)"
   ]
  },
  {
   "cell_type": "code",
   "execution_count": 61,
   "metadata": {},
   "outputs": [
    {
     "data": {
      "text/html": [
       "<div>\n",
       "<style scoped>\n",
       "    .dataframe tbody tr th:only-of-type {\n",
       "        vertical-align: middle;\n",
       "    }\n",
       "\n",
       "    .dataframe tbody tr th {\n",
       "        vertical-align: top;\n",
       "    }\n",
       "\n",
       "    .dataframe thead th {\n",
       "        text-align: right;\n",
       "    }\n",
       "</style>\n",
       "<table border=\"1\" class=\"dataframe\">\n",
       "  <thead>\n",
       "    <tr style=\"text-align: right;\">\n",
       "      <th></th>\n",
       "      <th>Precision</th>\n",
       "    </tr>\n",
       "  </thead>\n",
       "  <tbody>\n",
       "    <tr>\n",
       "      <th>X_train_scaled</th>\n",
       "      <td>0.751522</td>\n",
       "    </tr>\n",
       "    <tr>\n",
       "      <th>X_test_encoded</th>\n",
       "      <td>0.765702</td>\n",
       "    </tr>\n",
       "  </tbody>\n",
       "</table>\n",
       "</div>"
      ],
      "text/plain": [
       "                Precision\n",
       "X_train_scaled   0.751522\n",
       "X_test_encoded   0.765702"
      ]
     },
     "execution_count": 61,
     "metadata": {},
     "output_type": "execute_result"
    }
   ],
   "source": [
    "precision = metrics.precision_score(y_test, test_pred_decision_tree, \n",
    "                                  average=None)\n",
    "precision_results = pd.DataFrame(precision, index=labels)\n",
    "\n",
    "#renaming results column\n",
    "precision_results.rename(columns={0:'Precision'}, inplace =True)\n",
    "\n",
    "precision_results"
   ]
  },
  {
   "cell_type": "code",
   "execution_count": 62,
   "metadata": {
    "scrolled": true
   },
   "outputs": [
    {
     "name": "stdout",
     "output_type": "stream",
     "text": [
      "              precision    recall  f1-score   support\n",
      "\n",
      "           0       0.75      0.82      0.79      4342\n",
      "           1       0.77      0.68      0.72      3671\n",
      "\n",
      "    accuracy                           0.76      8013\n",
      "   macro avg       0.76      0.75      0.75      8013\n",
      "weighted avg       0.76      0.76      0.76      8013\n",
      "\n"
     ]
    }
   ],
   "source": [
    "print(metrics.classification_report(y_test, test_pred_decision_tree))"
   ]
  },
  {
   "cell_type": "markdown",
   "metadata": {},
   "source": [
    "This is pretty good! The Decision Tree Classifier model shows that it's better at predicting class 0 (not recieving the vaccine) with higher recall and higher f1-score, compared to class 1 (those who recieved the vaccine). \n",
    "\n",
    "Based on these metrics, the model has an overall accuracy of 0.76 on your test data, which means that it correctly predicted the class for 76% of the instances."
   ]
  },
  {
   "cell_type": "markdown",
   "metadata": {},
   "source": [
    "### Random Forest Model"
   ]
  },
  {
   "cell_type": "markdown",
   "metadata": {},
   "source": [
    "The Decision Tree model did well, but I want to improve the accuracy, so I will build a Random Forest Model. The model combines multiple decision trees to make more accurate predictions by averaging the results of those trees. Which could lead to better accuracy compared to the Decision Treee model. "
   ]
  },
  {
   "cell_type": "code",
   "execution_count": 63,
   "metadata": {},
   "outputs": [],
   "source": [
    "from sklearn.ensemble import RandomForestClassifier\n",
    "from sklearn.pipeline import Pipeline\n",
    "from sklearn.preprocessing import MinMaxScaler"
   ]
  },
  {
   "cell_type": "code",
   "execution_count": 64,
   "metadata": {},
   "outputs": [
    {
     "name": "stdout",
     "output_type": "stream",
     "text": [
      "Baseline accuracy: 0.5448645950330713\n"
     ]
    }
   ],
   "source": [
    "# Define the pipeline\n",
    "rfc_pipe = Pipeline([\n",
    "    ('scaler', MinMaxScaler()),\n",
    "    ('clf', RandomForestClassifier(random_state=42))\n",
    "])\n",
    "\n",
    "# Fit the pipeline on the training data\n",
    "pipe.fit(X_train_scaled, y_train)\n",
    "\n",
    "# Predict the labels of the test data\n",
    "y_pred = pipe.predict(X_test_encoded)\n",
    "\n",
    "# Calculate the accuracy of the model on the test data\n",
    "accuracy = accuracy_score(y_test, y_pred)\n",
    "print(\"Baseline accuracy:\", accuracy)\n"
   ]
  },
  {
   "cell_type": "code",
   "execution_count": 65,
   "metadata": {},
   "outputs": [
    {
     "name": "stdout",
     "output_type": "stream",
     "text": [
      "Training Data Matrix Report:\n",
      "              precision    recall  f1-score   support\n",
      "\n",
      "           0       0.78      0.81      0.79      9930\n",
      "           1       0.77      0.74      0.75      8764\n",
      "\n",
      "    accuracy                           0.77     18694\n",
      "   macro avg       0.77      0.77      0.77     18694\n",
      "weighted avg       0.77      0.77      0.77     18694\n",
      "\n",
      "Test Data Matrix Report:\n",
      "              precision    recall  f1-score   support\n",
      "\n",
      "           0       0.78      0.38      0.51      4342\n",
      "           1       0.54      0.87      0.67      3671\n",
      "\n",
      "    accuracy                           0.61      8013\n",
      "   macro avg       0.66      0.63      0.59      8013\n",
      "weighted avg       0.67      0.61      0.58      8013\n",
      "\n",
      "Training Accuracy: 0.7737776826789344\n",
      "Test Accuracy: 0.6062648196680395\n"
     ]
    }
   ],
   "source": [
    "# Define the pipeline\n",
    "rfc_pipe = Pipeline([\n",
    "    ('scaler', MinMaxScaler()),\n",
    "    ('clf', RandomForestClassifier(random_state=42))\n",
    "])\n",
    "\n",
    "# Train the model on the training data\n",
    "rfc_pipe.fit(X_train_scaled, y_train)\n",
    "\n",
    "# Predict the labels of the test data\n",
    "y_pred = rfc_pipe.predict(X_test_encoded)\n",
    "\n",
    "# Calculate the accuracy of the model on the test data\n",
    "test_accuracy = accuracy_score(y_test, y_pred)\n",
    "\n",
    "# Calculate the accuracy of the model on the training data\n",
    "train_accuracy = accuracy_score(y_train, y_train_pred)\n",
    "\n",
    "# Print training data matrix report\n",
    "print(\"Training Data Matrix Report:\")\n",
    "print(classification_report(y_train, y_train_pred))\n",
    "\n",
    "# Print test data matrix report\n",
    "print(\"Test Data Matrix Report:\")\n",
    "print(classification_report(y_test, y_pred))\n",
    "print(\"Training Accuracy:\", train_accuracy)\n",
    "print(\"Test Accuracy:\", test_accuracy)"
   ]
  },
  {
   "cell_type": "markdown",
   "metadata": {},
   "source": [
    "The training accuracy is 77% while the test accuracy is 60%. The model is likely overfitting the training data. I want to try another GridSearchCV to improve the accuracy and fix the overfitting."
   ]
  },
  {
   "cell_type": "markdown",
   "metadata": {},
   "source": [
    "### Grid Search"
   ]
  },
  {
   "cell_type": "code",
   "execution_count": 66,
   "metadata": {},
   "outputs": [],
   "source": [
    "# Import necessary libraries\n",
    "from sklearn.ensemble import RandomForestClassifier\n",
    "from sklearn.model_selection import GridSearchCV\n",
    "from sklearn.pipeline import Pipeline"
   ]
  },
  {
   "cell_type": "code",
   "execution_count": 67,
   "metadata": {},
   "outputs": [
    {
     "data": {
      "text/plain": [
       "{'memory': None,\n",
       " 'steps': [('scaler', MinMaxScaler()),\n",
       "  ('clf', RandomForestClassifier(random_state=42))],\n",
       " 'verbose': False,\n",
       " 'scaler': MinMaxScaler(),\n",
       " 'clf': RandomForestClassifier(random_state=42),\n",
       " 'scaler__copy': True,\n",
       " 'scaler__feature_range': (0, 1),\n",
       " 'clf__bootstrap': True,\n",
       " 'clf__ccp_alpha': 0.0,\n",
       " 'clf__class_weight': None,\n",
       " 'clf__criterion': 'gini',\n",
       " 'clf__max_depth': None,\n",
       " 'clf__max_features': 'auto',\n",
       " 'clf__max_leaf_nodes': None,\n",
       " 'clf__max_samples': None,\n",
       " 'clf__min_impurity_decrease': 0.0,\n",
       " 'clf__min_impurity_split': None,\n",
       " 'clf__min_samples_leaf': 1,\n",
       " 'clf__min_samples_split': 2,\n",
       " 'clf__min_weight_fraction_leaf': 0.0,\n",
       " 'clf__n_estimators': 100,\n",
       " 'clf__n_jobs': None,\n",
       " 'clf__oob_score': False,\n",
       " 'clf__random_state': 42,\n",
       " 'clf__verbose': 0,\n",
       " 'clf__warm_start': False}"
      ]
     },
     "execution_count": 67,
     "metadata": {},
     "output_type": "execute_result"
    }
   ],
   "source": [
    "rfc_pipe.get_params()"
   ]
  },
  {
   "cell_type": "code",
   "execution_count": 68,
   "metadata": {},
   "outputs": [],
   "source": [
    "# Define the parameter grid for grid search\n",
    "param_grid = {\n",
    "    'clf__n_estimators': [10, 50, 100, 200],\n",
    "    'clf__max_depth': [None, 10, 20, 30],\n",
    "    'clf__min_samples_split': [2, 5, 10],\n",
    "    'clf__min_samples_leaf': [1, 2, 4]\n",
    "}\n",
    "# Create instance \n",
    "rf = RandomForestClassifier(random_state=42)\n",
    "# Create a GridSearchCV object\n",
    "grid_search = GridSearchCV(rfc_pipe, param_grid, cv=5)"
   ]
  },
  {
   "cell_type": "code",
   "execution_count": 69,
   "metadata": {},
   "outputs": [
    {
     "name": "stdout",
     "output_type": "stream",
     "text": [
      "{'clf__max_depth': 20, 'clf__min_samples_leaf': 4, 'clf__min_samples_split': 10, 'clf__n_estimators': 200}\n"
     ]
    }
   ],
   "source": [
    "# Fit the data to the GridSearchCV object\n",
    "grid_search.fit(X_train_scaled, y_train)\n",
    "\n",
    "# Now you can access the best_params_ attribute without any errors\n",
    "print(grid_search.best_params_)"
   ]
  },
  {
   "cell_type": "code",
   "execution_count": 70,
   "metadata": {},
   "outputs": [],
   "source": [
    "# Create the pipeline with optimized parameters\n",
    "rfc_pipe_2 = Pipeline([\n",
    "    ('clf', RandomForestClassifier(n_estimators=200, max_depth=20, min_samples_leaf=4, min_samples_split=10))\n",
    "])"
   ]
  },
  {
   "cell_type": "code",
   "execution_count": 71,
   "metadata": {
    "scrolled": true
   },
   "outputs": [
    {
     "name": "stdout",
     "output_type": "stream",
     "text": [
      "Training Data Matrix Report:\n",
      "\n",
      "              precision    recall  f1-score   support\n",
      "\n",
      "           0       0.85      0.87      0.86      9930\n",
      "           1       0.85      0.82      0.84      8764\n",
      "\n",
      "    accuracy                           0.85     18694\n",
      "   macro avg       0.85      0.85      0.85     18694\n",
      "weighted avg       0.85      0.85      0.85     18694\n",
      "\n",
      "Testing Data Matrix Report:\n",
      "\n",
      "              precision    recall  f1-score   support\n",
      "\n",
      "           0       0.79      0.81      0.80      4342\n",
      "           1       0.77      0.75      0.76      3671\n",
      "\n",
      "    accuracy                           0.78      8013\n",
      "   macro avg       0.78      0.78      0.78      8013\n",
      "weighted avg       0.78      0.78      0.78      8013\n",
      "\n"
     ]
    }
   ],
   "source": [
    "# Fit the pipeline to the training data\n",
    "rfc_pipe_2.fit(X_train_scaled, y_train)\n",
    "\n",
    "# Get the predicted target labels for the training data\n",
    "y_train_pred = rfc_pipe_2.predict(X_train_scaled)\n",
    "\n",
    "# Generate the classification report for training data\n",
    "report_train = classification_report(y_train, y_train_pred, output_dict=True)\n",
    "\n",
    "# Get the predicted target labels for the testing data\n",
    "y_test_pred = rfc_pipe_2.predict(X_test_scaled)\n",
    "\n",
    "# Generate the classification report for testing data\n",
    "report_test = classification_report(y_test, y_test_pred, output_dict=True)\n",
    "\n",
    "# Print the classification reports for both training and testing data\n",
    "print(\"Training Data Matrix Report:\\n\")\n",
    "print(classification_report(y_train, y_train_pred))\n",
    "print(\"Testing Data Matrix Report:\\n\")\n",
    "print(classification_report(y_test, y_test_pred))\n"
   ]
  },
  {
   "cell_type": "markdown",
   "metadata": {},
   "source": [
    "This report shows the performance of the Random Forest model on the test data (unseen data). The precision, recall, and F1-score are presented for both classes (0 and 1). In this case, the model has a high precision for class 0 (0.84) but a low recall (0.21), meaning it's good at identifying true class 0 instances when it predicts them but misses a lot of actual class 0 instances. For class 1, the model has a high recall (0.95) but a lower precision (0.51), meaning it identifies most of the actual class 1 instances but also predicts many false positives (incorrectly labeling instances as class 1 when they are actually class 0).\n",
    "\n",
    "The overall accuracy on the test data is 78%, which is lower than the training data accuracy. This suggests that the model is not generalizing well to unseen data and might be overfitting the training data."
   ]
  },
  {
   "cell_type": "markdown",
   "metadata": {},
   "source": [
    "### Evaluation"
   ]
  },
  {
   "cell_type": "markdown",
   "metadata": {},
   "source": [
    "The final model that gave us the highest accuracy on the test dataset is the Decision Tree Classifier. The goal of this project was to predict an individuals' likelihood of recieving a vaccine. The model allows us to predict who doesn't get the vaccine based on features in the dataset. "
   ]
  },
  {
   "cell_type": "code",
   "execution_count": 72,
   "metadata": {
    "scrolled": true
   },
   "outputs": [
    {
     "name": "stdout",
     "output_type": "stream",
     "text": [
      "                        feature  importance\n",
      "14  opinion_seas_vacc_effective       0.425\n",
      "10         doctor_recc_seasonal       0.265\n",
      "15            opinion_seas_risk       0.167\n",
      "23          age_group_65+ Years       0.061\n",
      "19      age_group_18 - 34 Years       0.036\n",
      "13                health_worker       0.019\n",
      "1              health_insurance       0.013\n",
      "16  opinion_seas_sick_from_vacc       0.006\n",
      "18           household_children       0.003\n",
      "26         education_< 12 Years       0.002\n",
      "0                 respondent_id       0.001\n",
      "33                   sex_Female       0.000\n",
      "32                   race_White       0.000\n",
      "31       race_Other or Multiple       0.000\n",
      "30                race_Hispanic       0.000\n",
      "25           education_12 Years       0.000\n",
      "22      age_group_55 - 64 Years       0.000\n",
      "27   education_College Graduate       0.000\n",
      "28       education_Some College       0.000\n",
      "29                   race_Black       0.000\n",
      "24                  education_0       0.000\n",
      "17             household_adults       0.000\n",
      "21      age_group_45 - 54 Years       0.000\n",
      "20      age_group_35 - 44 Years       0.000\n",
      "12         child_under_6_months       0.000\n",
      "11        chronic_med_condition       0.000\n",
      "9         behavioral_touch_face       0.000\n",
      "8       behavioral_outside_home       0.000\n",
      "7   behavioral_large_gatherings       0.000\n",
      "6         behavioral_wash_hands       0.000\n",
      "5          behavioral_face_mask       0.000\n",
      "4          behavioral_avoidance       0.000\n",
      "3     behavioral_antiviral_meds       0.000\n",
      "2             employment_status       0.000\n",
      "34                     sex_Male       0.000\n"
     ]
    }
   ],
   "source": [
    "importance = pd.DataFrame({'feature': X_train_encoded.columns, 'importance' : np.round(clf_decision_tree.feature_importances_, 3)})\n",
    "importance.sort_values('importance', ascending=False, inplace = True)\n",
    "print(importance)"
   ]
  },
  {
   "cell_type": "markdown",
   "metadata": {},
   "source": [
    "The importance of each feature is listed as a value between 0 and 1, with higher values indicating that the feature is more important in predicting the target variable. In this case, the target variable is likely whether or not a person gets the flu vaccine (class 0 means no vaccine, class 1 means yes vaccine). The most important feature in this model is \"opinion_seas_vacc_effective\", with an importance value of 0.425, followed by \"doctor_recc_seasonal\" with an importance of 0.265, and \"opinion_seas_risk\" with an importance of 0.167. The other features have much lower importance values, indicating that they are less relevant for predicting the target variable."
   ]
  },
  {
   "cell_type": "markdown",
   "metadata": {},
   "source": [
    "### Reccomendations"
   ]
  },
  {
   "cell_type": "markdown",
   "metadata": {},
   "source": [
    "Based on the feature importance results, the top three most important features for predicting whether someone gets the seasonal flu vaccine are:\n",
    "\n",
    "1. opinion_seas_vacc_effective\n",
    "2. doctor_recc_seasonal\n",
    "3. opinion_seas_risk\n",
    "\n",
    "Therefore, one recommendation would be to focus on improving people's perception of the effectiveness of the vaccine and increasing recommendations from doctors. This could involve public health campaigns and education initiatives to better inform people about the benefits of getting vaccinated and addressing common misconceptions or concerns.\n",
    "\n",
    "Additionally, the model suggests that age and health worker status are also important factors to consider. Therefore, targeted outreach to older adults and healthcare professionals may also be effective in increasing vaccination rates.\n",
    "\n",
    "Finally, it's worth noting that some of the other features had very low importance in the model, such as employment status and behavioral habits. While these factors may still be important for individual decision-making, they may not have as much impact on whether someone actually gets vaccinated. Therefore, resources and efforts may be better spent on targeting the factors with higher importance."
   ]
  },
  {
   "cell_type": "markdown",
   "metadata": {},
   "source": [
    "### Limitations"
   ]
  },
  {
   "cell_type": "markdown",
   "metadata": {},
   "source": [
    "Data collection was conducted through telephone surveys and could include, limited access to certain populations, non-reponse bias, inaccurate responses and exclusion of non-English speakers. Collecting data through only telephone surveys can limit the sample size and other methods of data collection may need to be considered to minimize these limitations. "
   ]
  },
  {
   "cell_type": "markdown",
   "metadata": {},
   "source": [
    "### Next Steps"
   ]
  },
  {
   "cell_type": "markdown",
   "metadata": {},
   "source": [
    "Despite being collected via telephone surveys, the respondents provided valuable information. To increase flu vaccination rates, the CDC could consider collecting data through additional methods such as online surveys, in-person door-to-door surveys, and by ensuring that surveys are available in multiple languages."
   ]
  }
 ],
 "metadata": {
  "kernelspec": {
   "display_name": "Python 3",
   "language": "python",
   "name": "python3"
  },
  "language_info": {
   "codemirror_mode": {
    "name": "ipython",
    "version": 3
   },
   "file_extension": ".py",
   "mimetype": "text/x-python",
   "name": "python",
   "nbconvert_exporter": "python",
   "pygments_lexer": "ipython3",
   "version": "3.8.5"
  }
 },
 "nbformat": 4,
 "nbformat_minor": 4
}
